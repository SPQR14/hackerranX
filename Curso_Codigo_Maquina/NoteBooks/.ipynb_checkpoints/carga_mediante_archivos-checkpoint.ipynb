{
 "cells": [
  {
   "cell_type": "markdown",
   "id": "cf2cd075",
   "metadata": {},
   "source": [
    "# Cargar datos a los DataFrames"
   ]
  },
  {
   "cell_type": "code",
   "execution_count": 4,
   "id": "7a8f2fc5",
   "metadata": {},
   "outputs": [],
   "source": [
    "import pandas as pd\n",
    "import numpy as np\n",
    "from time import perf_counter"
   ]
  },
  {
   "cell_type": "code",
   "execution_count": 15,
   "id": "f0a83508",
   "metadata": {},
   "outputs": [],
   "source": [
    "ventas = pd.read_csv('../files/datos/ventas.csv', sep=',', encoding='utf8', index_col=0)"
   ]
  },
  {
   "cell_type": "code",
   "execution_count": 16,
   "id": "50329a67",
   "metadata": {},
   "outputs": [
    {
     "data": {
      "text/html": [
       "<div>\n",
       "<style scoped>\n",
       "    .dataframe tbody tr th:only-of-type {\n",
       "        vertical-align: middle;\n",
       "    }\n",
       "\n",
       "    .dataframe tbody tr th {\n",
       "        vertical-align: top;\n",
       "    }\n",
       "\n",
       "    .dataframe thead th {\n",
       "        text-align: right;\n",
       "    }\n",
       "</style>\n",
       "<table border=\"1\" class=\"dataframe\">\n",
       "  <thead>\n",
       "    <tr style=\"text-align: right;\">\n",
       "      <th></th>\n",
       "      <th>Trimestre 1</th>\n",
       "      <th>Trimestre 2</th>\n",
       "      <th>Trimestre 3</th>\n",
       "      <th>Trimestre 4</th>\n",
       "    </tr>\n",
       "  </thead>\n",
       "  <tbody>\n",
       "    <tr>\n",
       "      <th>Sucursal Norte</th>\n",
       "      <td>1001</td>\n",
       "      <td>1002</td>\n",
       "      <td>1003</td>\n",
       "      <td>1004</td>\n",
       "    </tr>\n",
       "    <tr>\n",
       "      <th>Sucursal Este</th>\n",
       "      <td>2001</td>\n",
       "      <td>2002</td>\n",
       "      <td>2003</td>\n",
       "      <td>2004</td>\n",
       "    </tr>\n",
       "    <tr>\n",
       "      <th>Sucursal Oeste</th>\n",
       "      <td>3001</td>\n",
       "      <td>3002</td>\n",
       "      <td>3003</td>\n",
       "      <td>3004</td>\n",
       "    </tr>\n",
       "    <tr>\n",
       "      <th>Sucursal Sur</th>\n",
       "      <td>4001</td>\n",
       "      <td>4002</td>\n",
       "      <td>4003</td>\n",
       "      <td>4004</td>\n",
       "    </tr>\n",
       "  </tbody>\n",
       "</table>\n",
       "</div>"
      ],
      "text/plain": [
       "                Trimestre 1  Trimestre 2  Trimestre 3  Trimestre 4\n",
       "Sucursal Norte         1001         1002         1003         1004\n",
       "Sucursal Este          2001         2002         2003         2004\n",
       "Sucursal Oeste         3001         3002         3003         3004\n",
       "Sucursal Sur           4001         4002         4003         4004"
      ]
     },
     "execution_count": 16,
     "metadata": {},
     "output_type": "execute_result"
    }
   ],
   "source": [
    "ventas"
   ]
  },
  {
   "cell_type": "code",
   "execution_count": 24,
   "id": "11e9a996",
   "metadata": {},
   "outputs": [],
   "source": [
    "ventas = pd.read_csv('../files/datos/ventas_con_simbolo.csv', \n",
    "                     index_col=0, sep='$', encoding='utf8', usecols=[0,1,4], nrows=3)"
   ]
  },
  {
   "cell_type": "code",
   "execution_count": 25,
   "id": "5ba01c6f",
   "metadata": {},
   "outputs": [
    {
     "data": {
      "text/html": [
       "<div>\n",
       "<style scoped>\n",
       "    .dataframe tbody tr th:only-of-type {\n",
       "        vertical-align: middle;\n",
       "    }\n",
       "\n",
       "    .dataframe tbody tr th {\n",
       "        vertical-align: top;\n",
       "    }\n",
       "\n",
       "    .dataframe thead th {\n",
       "        text-align: right;\n",
       "    }\n",
       "</style>\n",
       "<table border=\"1\" class=\"dataframe\">\n",
       "  <thead>\n",
       "    <tr style=\"text-align: right;\">\n",
       "      <th></th>\n",
       "      <th>Trimestre 1</th>\n",
       "      <th>Trimestre 4</th>\n",
       "    </tr>\n",
       "  </thead>\n",
       "  <tbody>\n",
       "    <tr>\n",
       "      <th>Sucursal Norte</th>\n",
       "      <td>1001</td>\n",
       "      <td>1004</td>\n",
       "    </tr>\n",
       "    <tr>\n",
       "      <th>Sucursal Este</th>\n",
       "      <td>2001</td>\n",
       "      <td>2004</td>\n",
       "    </tr>\n",
       "    <tr>\n",
       "      <th>Sucursal Oeste</th>\n",
       "      <td>3001</td>\n",
       "      <td>3004</td>\n",
       "    </tr>\n",
       "  </tbody>\n",
       "</table>\n",
       "</div>"
      ],
      "text/plain": [
       "                Trimestre 1  Trimestre 4\n",
       "Sucursal Norte         1001         1004\n",
       "Sucursal Este          2001         2004\n",
       "Sucursal Oeste         3001         3004"
      ]
     },
     "execution_count": 25,
     "metadata": {},
     "output_type": "execute_result"
    }
   ],
   "source": [
    "ventas"
   ]
  },
  {
   "cell_type": "code",
   "execution_count": 31,
   "id": "3d4d2a2a",
   "metadata": {},
   "outputs": [],
   "source": [
    "ventas = pd.read_csv('../files/datos/ventas_sin_encabezado.csv',\n",
    "                    index_col=0, sep=',', header=None,encoding='utf8', \n",
    "                     names=['t1', 't2', 't3', 't4'])"
   ]
  },
  {
   "cell_type": "code",
   "execution_count": 32,
   "id": "2111fe6e",
   "metadata": {},
   "outputs": [
    {
     "data": {
      "text/html": [
       "<div>\n",
       "<style scoped>\n",
       "    .dataframe tbody tr th:only-of-type {\n",
       "        vertical-align: middle;\n",
       "    }\n",
       "\n",
       "    .dataframe tbody tr th {\n",
       "        vertical-align: top;\n",
       "    }\n",
       "\n",
       "    .dataframe thead th {\n",
       "        text-align: right;\n",
       "    }\n",
       "</style>\n",
       "<table border=\"1\" class=\"dataframe\">\n",
       "  <thead>\n",
       "    <tr style=\"text-align: right;\">\n",
       "      <th></th>\n",
       "      <th>t1</th>\n",
       "      <th>t2</th>\n",
       "      <th>t3</th>\n",
       "      <th>t4</th>\n",
       "    </tr>\n",
       "  </thead>\n",
       "  <tbody>\n",
       "    <tr>\n",
       "      <th>Sucursal Norte</th>\n",
       "      <td>1001</td>\n",
       "      <td>1002</td>\n",
       "      <td>1003</td>\n",
       "      <td>1004</td>\n",
       "    </tr>\n",
       "    <tr>\n",
       "      <th>Sucursal Este</th>\n",
       "      <td>2001</td>\n",
       "      <td>2002</td>\n",
       "      <td>2003</td>\n",
       "      <td>2004</td>\n",
       "    </tr>\n",
       "    <tr>\n",
       "      <th>Sucursal Oeste</th>\n",
       "      <td>3001</td>\n",
       "      <td>3002</td>\n",
       "      <td>3003</td>\n",
       "      <td>3004</td>\n",
       "    </tr>\n",
       "    <tr>\n",
       "      <th>Sucursal Sur</th>\n",
       "      <td>4001</td>\n",
       "      <td>4002</td>\n",
       "      <td>4003</td>\n",
       "      <td>4004</td>\n",
       "    </tr>\n",
       "  </tbody>\n",
       "</table>\n",
       "</div>"
      ],
      "text/plain": [
       "                  t1    t2    t3    t4\n",
       "Sucursal Norte  1001  1002  1003  1004\n",
       "Sucursal Este   2001  2002  2003  2004\n",
       "Sucursal Oeste  3001  3002  3003  3004\n",
       "Sucursal Sur    4001  4002  4003  4004"
      ]
     },
     "execution_count": 32,
     "metadata": {},
     "output_type": "execute_result"
    }
   ],
   "source": [
    "ventas"
   ]
  },
  {
   "cell_type": "code",
   "execution_count": 41,
   "id": "8550a323",
   "metadata": {},
   "outputs": [],
   "source": [
    "ventas = pd.read_csv('../files/datos/ventas_con_basura.csv', sep=',', encoding='utf8',\n",
    "                    index_col=0, skiprows=1, skipfooter=1, engine='python')"
   ]
  },
  {
   "cell_type": "code",
   "execution_count": 42,
   "id": "631cd9c6",
   "metadata": {},
   "outputs": [
    {
     "data": {
      "text/html": [
       "<div>\n",
       "<style scoped>\n",
       "    .dataframe tbody tr th:only-of-type {\n",
       "        vertical-align: middle;\n",
       "    }\n",
       "\n",
       "    .dataframe tbody tr th {\n",
       "        vertical-align: top;\n",
       "    }\n",
       "\n",
       "    .dataframe thead th {\n",
       "        text-align: right;\n",
       "    }\n",
       "</style>\n",
       "<table border=\"1\" class=\"dataframe\">\n",
       "  <thead>\n",
       "    <tr style=\"text-align: right;\">\n",
       "      <th></th>\n",
       "      <th>Trimestre 1</th>\n",
       "      <th>Trimestre 2</th>\n",
       "      <th>Trimestre 3</th>\n",
       "      <th>Trimestre 4</th>\n",
       "    </tr>\n",
       "  </thead>\n",
       "  <tbody>\n",
       "    <tr>\n",
       "      <th>Sucursal Norte</th>\n",
       "      <td>1001</td>\n",
       "      <td>1002</td>\n",
       "      <td>1003</td>\n",
       "      <td>1004</td>\n",
       "    </tr>\n",
       "    <tr>\n",
       "      <th>Sucursal Este</th>\n",
       "      <td>2001</td>\n",
       "      <td>2002</td>\n",
       "      <td>2003</td>\n",
       "      <td>2004</td>\n",
       "    </tr>\n",
       "    <tr>\n",
       "      <th>Sucursal Oeste</th>\n",
       "      <td>3001</td>\n",
       "      <td>3002</td>\n",
       "      <td>3003</td>\n",
       "      <td>3004</td>\n",
       "    </tr>\n",
       "    <tr>\n",
       "      <th>Sucursal Sur</th>\n",
       "      <td>4001</td>\n",
       "      <td>4002</td>\n",
       "      <td>4003</td>\n",
       "      <td>4004</td>\n",
       "    </tr>\n",
       "  </tbody>\n",
       "</table>\n",
       "</div>"
      ],
      "text/plain": [
       "                Trimestre 1  Trimestre 2  Trimestre 3  Trimestre 4\n",
       "Sucursal Norte         1001         1002         1003         1004\n",
       "Sucursal Este          2001         2002         2003         2004\n",
       "Sucursal Oeste         3001         3002         3003         3004\n",
       "Sucursal Sur           4001         4002         4003         4004"
      ]
     },
     "execution_count": 42,
     "metadata": {},
     "output_type": "execute_result"
    }
   ],
   "source": [
    "ventas"
   ]
  },
  {
   "cell_type": "code",
   "execution_count": 50,
   "id": "b6648226",
   "metadata": {},
   "outputs": [],
   "source": [
    "ventas = pd.read_excel('../files/datos/ventas_anuales.xlsx', index_col=0, skiprows=1,\n",
    "                      sheet_name=None)"
   ]
  },
  {
   "cell_type": "code",
   "execution_count": 51,
   "id": "8caf8c0a",
   "metadata": {},
   "outputs": [
    {
     "data": {
      "text/plain": [
       "{'2020':                 Trimestre 1  Trimestre 2  Trimestre 3  Trimestre 4\n",
       " Sucursal Norte         1001         1002         1003         1004\n",
       " Sucursal Este          2001         2002         2003         2004\n",
       " Sucursal Oeste         3001         3002         3003         3004\n",
       " Sucursal Sur           4001         4002         4003         4004,\n",
       " '2021':                 Trimestre 1  Trimestre 2  Trimestre 3  Trimestre 4\n",
       " Sucursal Norte         2001         2002         2003         2004\n",
       " Sucursal Este          4001         4002         4003         4004\n",
       " Sucursal Oeste         6001         6002         6003         6004\n",
       " Sucursal Sur           8001         8002         8003         8004}"
      ]
     },
     "execution_count": 51,
     "metadata": {},
     "output_type": "execute_result"
    }
   ],
   "source": [
    "ventas"
   ]
  },
  {
   "cell_type": "code",
   "execution_count": 54,
   "id": "e5a8dd26",
   "metadata": {},
   "outputs": [],
   "source": [
    "ventas_2020 = ventas['2020']"
   ]
  },
  {
   "cell_type": "code",
   "execution_count": 55,
   "id": "07d53015",
   "metadata": {},
   "outputs": [
    {
     "data": {
      "text/html": [
       "<div>\n",
       "<style scoped>\n",
       "    .dataframe tbody tr th:only-of-type {\n",
       "        vertical-align: middle;\n",
       "    }\n",
       "\n",
       "    .dataframe tbody tr th {\n",
       "        vertical-align: top;\n",
       "    }\n",
       "\n",
       "    .dataframe thead th {\n",
       "        text-align: right;\n",
       "    }\n",
       "</style>\n",
       "<table border=\"1\" class=\"dataframe\">\n",
       "  <thead>\n",
       "    <tr style=\"text-align: right;\">\n",
       "      <th></th>\n",
       "      <th>Trimestre 1</th>\n",
       "      <th>Trimestre 2</th>\n",
       "      <th>Trimestre 3</th>\n",
       "      <th>Trimestre 4</th>\n",
       "    </tr>\n",
       "  </thead>\n",
       "  <tbody>\n",
       "    <tr>\n",
       "      <th>Sucursal Norte</th>\n",
       "      <td>1001</td>\n",
       "      <td>1002</td>\n",
       "      <td>1003</td>\n",
       "      <td>1004</td>\n",
       "    </tr>\n",
       "    <tr>\n",
       "      <th>Sucursal Este</th>\n",
       "      <td>2001</td>\n",
       "      <td>2002</td>\n",
       "      <td>2003</td>\n",
       "      <td>2004</td>\n",
       "    </tr>\n",
       "    <tr>\n",
       "      <th>Sucursal Oeste</th>\n",
       "      <td>3001</td>\n",
       "      <td>3002</td>\n",
       "      <td>3003</td>\n",
       "      <td>3004</td>\n",
       "    </tr>\n",
       "    <tr>\n",
       "      <th>Sucursal Sur</th>\n",
       "      <td>4001</td>\n",
       "      <td>4002</td>\n",
       "      <td>4003</td>\n",
       "      <td>4004</td>\n",
       "    </tr>\n",
       "  </tbody>\n",
       "</table>\n",
       "</div>"
      ],
      "text/plain": [
       "                Trimestre 1  Trimestre 2  Trimestre 3  Trimestre 4\n",
       "Sucursal Norte         1001         1002         1003         1004\n",
       "Sucursal Este          2001         2002         2003         2004\n",
       "Sucursal Oeste         3001         3002         3003         3004\n",
       "Sucursal Sur           4001         4002         4003         4004"
      ]
     },
     "execution_count": 55,
     "metadata": {},
     "output_type": "execute_result"
    }
   ],
   "source": [
    "ventas_2020"
   ]
  },
  {
   "cell_type": "code",
   "execution_count": 56,
   "id": "6979484e",
   "metadata": {},
   "outputs": [],
   "source": [
    "ventas_2021 = ventas['2021']"
   ]
  },
  {
   "cell_type": "code",
   "execution_count": 57,
   "id": "131cdd2c",
   "metadata": {},
   "outputs": [
    {
     "data": {
      "text/html": [
       "<div>\n",
       "<style scoped>\n",
       "    .dataframe tbody tr th:only-of-type {\n",
       "        vertical-align: middle;\n",
       "    }\n",
       "\n",
       "    .dataframe tbody tr th {\n",
       "        vertical-align: top;\n",
       "    }\n",
       "\n",
       "    .dataframe thead th {\n",
       "        text-align: right;\n",
       "    }\n",
       "</style>\n",
       "<table border=\"1\" class=\"dataframe\">\n",
       "  <thead>\n",
       "    <tr style=\"text-align: right;\">\n",
       "      <th></th>\n",
       "      <th>Trimestre 1</th>\n",
       "      <th>Trimestre 2</th>\n",
       "      <th>Trimestre 3</th>\n",
       "      <th>Trimestre 4</th>\n",
       "    </tr>\n",
       "  </thead>\n",
       "  <tbody>\n",
       "    <tr>\n",
       "      <th>Sucursal Norte</th>\n",
       "      <td>2001</td>\n",
       "      <td>2002</td>\n",
       "      <td>2003</td>\n",
       "      <td>2004</td>\n",
       "    </tr>\n",
       "    <tr>\n",
       "      <th>Sucursal Este</th>\n",
       "      <td>4001</td>\n",
       "      <td>4002</td>\n",
       "      <td>4003</td>\n",
       "      <td>4004</td>\n",
       "    </tr>\n",
       "    <tr>\n",
       "      <th>Sucursal Oeste</th>\n",
       "      <td>6001</td>\n",
       "      <td>6002</td>\n",
       "      <td>6003</td>\n",
       "      <td>6004</td>\n",
       "    </tr>\n",
       "    <tr>\n",
       "      <th>Sucursal Sur</th>\n",
       "      <td>8001</td>\n",
       "      <td>8002</td>\n",
       "      <td>8003</td>\n",
       "      <td>8004</td>\n",
       "    </tr>\n",
       "  </tbody>\n",
       "</table>\n",
       "</div>"
      ],
      "text/plain": [
       "                Trimestre 1  Trimestre 2  Trimestre 3  Trimestre 4\n",
       "Sucursal Norte         2001         2002         2003         2004\n",
       "Sucursal Este          4001         4002         4003         4004\n",
       "Sucursal Oeste         6001         6002         6003         6004\n",
       "Sucursal Sur           8001         8002         8003         8004"
      ]
     },
     "execution_count": 57,
     "metadata": {},
     "output_type": "execute_result"
    }
   ],
   "source": [
    "ventas_2021"
   ]
  },
  {
   "cell_type": "code",
   "execution_count": 58,
   "id": "b9c837c0",
   "metadata": {},
   "outputs": [],
   "source": [
    "ventas = pd.read_excel('../files/datos/ventas_anuales.xlsx', index_col=0, skiprows=1,\n",
    "                      sheet_name='2021')"
   ]
  },
  {
   "cell_type": "code",
   "execution_count": 59,
   "id": "a66b9249",
   "metadata": {},
   "outputs": [
    {
     "data": {
      "text/html": [
       "<div>\n",
       "<style scoped>\n",
       "    .dataframe tbody tr th:only-of-type {\n",
       "        vertical-align: middle;\n",
       "    }\n",
       "\n",
       "    .dataframe tbody tr th {\n",
       "        vertical-align: top;\n",
       "    }\n",
       "\n",
       "    .dataframe thead th {\n",
       "        text-align: right;\n",
       "    }\n",
       "</style>\n",
       "<table border=\"1\" class=\"dataframe\">\n",
       "  <thead>\n",
       "    <tr style=\"text-align: right;\">\n",
       "      <th></th>\n",
       "      <th>Trimestre 1</th>\n",
       "      <th>Trimestre 2</th>\n",
       "      <th>Trimestre 3</th>\n",
       "      <th>Trimestre 4</th>\n",
       "    </tr>\n",
       "  </thead>\n",
       "  <tbody>\n",
       "    <tr>\n",
       "      <th>Sucursal Norte</th>\n",
       "      <td>2001</td>\n",
       "      <td>2002</td>\n",
       "      <td>2003</td>\n",
       "      <td>2004</td>\n",
       "    </tr>\n",
       "    <tr>\n",
       "      <th>Sucursal Este</th>\n",
       "      <td>4001</td>\n",
       "      <td>4002</td>\n",
       "      <td>4003</td>\n",
       "      <td>4004</td>\n",
       "    </tr>\n",
       "    <tr>\n",
       "      <th>Sucursal Oeste</th>\n",
       "      <td>6001</td>\n",
       "      <td>6002</td>\n",
       "      <td>6003</td>\n",
       "      <td>6004</td>\n",
       "    </tr>\n",
       "    <tr>\n",
       "      <th>Sucursal Sur</th>\n",
       "      <td>8001</td>\n",
       "      <td>8002</td>\n",
       "      <td>8003</td>\n",
       "      <td>8004</td>\n",
       "    </tr>\n",
       "  </tbody>\n",
       "</table>\n",
       "</div>"
      ],
      "text/plain": [
       "                Trimestre 1  Trimestre 2  Trimestre 3  Trimestre 4\n",
       "Sucursal Norte         2001         2002         2003         2004\n",
       "Sucursal Este          4001         4002         4003         4004\n",
       "Sucursal Oeste         6001         6002         6003         6004\n",
       "Sucursal Sur           8001         8002         8003         8004"
      ]
     },
     "execution_count": 59,
     "metadata": {},
     "output_type": "execute_result"
    }
   ],
   "source": [
    "ventas"
   ]
  },
  {
   "cell_type": "code",
   "execution_count": null,
   "id": "22bbd583",
   "metadata": {},
   "outputs": [],
   "source": []
  }
 ],
 "metadata": {
  "kernelspec": {
   "display_name": "dss",
   "language": "python",
   "name": "dss"
  },
  "language_info": {
   "codemirror_mode": {
    "name": "ipython",
    "version": 3
   },
   "file_extension": ".py",
   "mimetype": "text/x-python",
   "name": "python",
   "nbconvert_exporter": "python",
   "pygments_lexer": "ipython3",
   "version": "3.8.10"
  }
 },
 "nbformat": 4,
 "nbformat_minor": 5
}
