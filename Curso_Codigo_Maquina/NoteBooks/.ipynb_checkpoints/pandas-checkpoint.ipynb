{
 "cells": [
  {
   "cell_type": "markdown",
   "id": "9eb47c95",
   "metadata": {},
   "source": [
    "# Creación y manipulaciónde series de Pandas\n",
    "\n",
    "## Creación de una serie"
   ]
  },
  {
   "cell_type": "code",
   "execution_count": 1,
   "id": "8debd91e",
   "metadata": {},
   "outputs": [],
   "source": [
    "import pandas as pd"
   ]
  },
  {
   "cell_type": "code",
   "execution_count": 2,
   "id": "f414b9eb",
   "metadata": {},
   "outputs": [],
   "source": [
    "indice = ['Juan', 'Maria', 'Francisco', 'Mireya', 'Luisa']\n",
    "datos_lista = [40, 20, 36, 34, 20]"
   ]
  },
  {
   "cell_type": "code",
   "execution_count": 5,
   "id": "cdfc746e",
   "metadata": {},
   "outputs": [],
   "source": [
    "edades = pd.Series(datos_lista, index = indice)"
   ]
  },
  {
   "cell_type": "code",
   "execution_count": 6,
   "id": "8e9fe203",
   "metadata": {},
   "outputs": [
    {
     "data": {
      "text/plain": [
       "Juan         40\n",
       "Maria        20\n",
       "Francisco    36\n",
       "Mireya       34\n",
       "Luisa        20\n",
       "dtype: int64"
      ]
     },
     "execution_count": 6,
     "metadata": {},
     "output_type": "execute_result"
    }
   ],
   "source": [
    "edades"
   ]
  },
  {
   "cell_type": "code",
   "execution_count": 26,
   "id": "79d32ec6",
   "metadata": {},
   "outputs": [],
   "source": [
    "datos = dict(zip(indice, datos_lista))"
   ]
  },
  {
   "cell_type": "code",
   "execution_count": 27,
   "id": "219cd0eb",
   "metadata": {},
   "outputs": [
    {
     "data": {
      "text/plain": [
       "Juan         40\n",
       "Maria        20\n",
       "Francisco    36\n",
       "Mireya       34\n",
       "Luisa        20\n",
       "dtype: int64"
      ]
     },
     "execution_count": 27,
     "metadata": {},
     "output_type": "execute_result"
    }
   ],
   "source": [
    "edades = pd.Series(datos)\n",
    "edades"
   ]
  },
  {
   "cell_type": "code",
   "execution_count": 28,
   "id": "0d8cec10",
   "metadata": {},
   "outputs": [
    {
     "data": {
      "text/plain": [
       "dtype('int64')"
      ]
     },
     "execution_count": 28,
     "metadata": {},
     "output_type": "execute_result"
    }
   ],
   "source": [
    "edades.dtype"
   ]
  },
  {
   "cell_type": "code",
   "execution_count": 29,
   "id": "7d1a9001",
   "metadata": {},
   "outputs": [
    {
     "data": {
      "text/plain": [
       "5"
      ]
     },
     "execution_count": 29,
     "metadata": {},
     "output_type": "execute_result"
    }
   ],
   "source": [
    "edades.size"
   ]
  },
  {
   "cell_type": "code",
   "execution_count": null,
   "id": "e48d533f",
   "metadata": {},
   "outputs": [],
   "source": []
  }
 ],
 "metadata": {
  "kernelspec": {
   "display_name": "DSS",
   "language": "python",
   "name": "dss"
  },
  "language_info": {
   "codemirror_mode": {
    "name": "ipython",
    "version": 3
   },
   "file_extension": ".py",
   "mimetype": "text/x-python",
   "name": "python",
   "nbconvert_exporter": "python",
   "pygments_lexer": "ipython3",
   "version": "3.8.11"
  }
 },
 "nbformat": 4,
 "nbformat_minor": 5
}
