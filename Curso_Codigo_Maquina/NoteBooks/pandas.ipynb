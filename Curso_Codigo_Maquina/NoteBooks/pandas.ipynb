{
 "cells": [
  {
   "cell_type": "markdown",
   "id": "054ca2be",
   "metadata": {},
   "source": [
    "# Creación y manipulaciónde series de Pandas\n",
    "\n",
    "## Creación de una serie"
   ]
  },
  {
   "cell_type": "code",
   "execution_count": 109,
   "id": "7e36d670",
   "metadata": {},
   "outputs": [],
   "source": [
    "import pandas as pd"
   ]
  },
  {
   "cell_type": "code",
   "execution_count": 110,
   "id": "722be46c",
   "metadata": {},
   "outputs": [],
   "source": [
    "indice = ['Juan', 'Maria', 'Francisco', 'Mireya', 'Luisa']\n",
    "datos_lista = [40, 20, 36, 34, 20]"
   ]
  },
  {
   "cell_type": "code",
   "execution_count": 111,
   "id": "aa4c6d5c",
   "metadata": {},
   "outputs": [],
   "source": [
    "edades = pd.Series(datos_lista, index = indice)"
   ]
  },
  {
   "cell_type": "code",
   "execution_count": 112,
   "id": "ff3cc205",
   "metadata": {},
   "outputs": [
    {
     "data": {
      "text/plain": [
       "Juan         40\n",
       "Maria        20\n",
       "Francisco    36\n",
       "Mireya       34\n",
       "Luisa        20\n",
       "dtype: int64"
      ]
     },
     "execution_count": 112,
     "metadata": {},
     "output_type": "execute_result"
    }
   ],
   "source": [
    "edades"
   ]
  },
  {
   "cell_type": "code",
   "execution_count": 113,
   "id": "b7125dc3",
   "metadata": {},
   "outputs": [],
   "source": [
    "datos = dict(zip(indice, datos_lista))"
   ]
  },
  {
   "cell_type": "code",
   "execution_count": 114,
   "id": "ca566ee3",
   "metadata": {},
   "outputs": [
    {
     "data": {
      "text/plain": [
       "Juan         40\n",
       "Maria        20\n",
       "Francisco    36\n",
       "Mireya       34\n",
       "Luisa        20\n",
       "dtype: int64"
      ]
     },
     "execution_count": 114,
     "metadata": {},
     "output_type": "execute_result"
    }
   ],
   "source": [
    "edades = pd.Series(datos)\n",
    "edades"
   ]
  },
  {
   "cell_type": "markdown",
   "id": "e195bfde",
   "metadata": {},
   "source": [
    "## Atributos y acceso a los elementos de una Serie de pandas"
   ]
  },
  {
   "cell_type": "code",
   "execution_count": 115,
   "id": "2e237089",
   "metadata": {},
   "outputs": [
    {
     "data": {
      "text/plain": [
       "dtype('int64')"
      ]
     },
     "execution_count": 115,
     "metadata": {},
     "output_type": "execute_result"
    }
   ],
   "source": [
    "edades.dtype"
   ]
  },
  {
   "cell_type": "code",
   "execution_count": 116,
   "id": "6821fff0",
   "metadata": {},
   "outputs": [
    {
     "data": {
      "text/plain": [
       "5"
      ]
     },
     "execution_count": 116,
     "metadata": {},
     "output_type": "execute_result"
    }
   ],
   "source": [
    "edades.size"
   ]
  },
  {
   "cell_type": "code",
   "execution_count": 117,
   "id": "876c2e52",
   "metadata": {},
   "outputs": [
    {
     "data": {
      "text/plain": [
       "(Index(['Juan', 'Maria', 'Francisco', 'Mireya', 'Luisa'], dtype='object'),\n",
       " pandas.core.indexes.base.Index)"
      ]
     },
     "execution_count": 117,
     "metadata": {},
     "output_type": "execute_result"
    }
   ],
   "source": [
    "edades.index, type(edades.index)"
   ]
  },
  {
   "cell_type": "code",
   "execution_count": 118,
   "id": "32011ce2",
   "metadata": {},
   "outputs": [
    {
     "data": {
      "text/plain": [
       "(array([40, 20, 36, 34, 20], dtype=int64), numpy.ndarray)"
      ]
     },
     "execution_count": 118,
     "metadata": {},
     "output_type": "execute_result"
    }
   ],
   "source": [
    "edades.values, type(edades.values)"
   ]
  },
  {
   "cell_type": "code",
   "execution_count": 119,
   "id": "59d30ae2",
   "metadata": {},
   "outputs": [
    {
     "name": "stdout",
     "output_type": "stream",
     "text": [
      "40\n",
      "20\n",
      "36\n",
      "34\n",
      "20\n"
     ]
    }
   ],
   "source": [
    "for item in edades.values:\n",
    "    print(item)"
   ]
  },
  {
   "cell_type": "code",
   "execution_count": 120,
   "id": "cc977e57",
   "metadata": {},
   "outputs": [
    {
     "name": "stdout",
     "output_type": "stream",
     "text": [
      "Juan\n",
      "Maria\n",
      "Francisco\n",
      "Mireya\n",
      "Luisa\n"
     ]
    }
   ],
   "source": [
    "for item in edades.index:\n",
    "    print(item)"
   ]
  },
  {
   "cell_type": "code",
   "execution_count": 121,
   "id": "e4d580ce",
   "metadata": {},
   "outputs": [
    {
     "data": {
      "text/plain": [
       "40"
      ]
     },
     "execution_count": 121,
     "metadata": {},
     "output_type": "execute_result"
    }
   ],
   "source": [
    "edades['Juan']"
   ]
  },
  {
   "cell_type": "code",
   "execution_count": 122,
   "id": "cf6b0a58",
   "metadata": {},
   "outputs": [
    {
     "data": {
      "text/plain": [
       "Juan     40\n",
       "Luisa    20\n",
       "dtype: int64"
      ]
     },
     "execution_count": 122,
     "metadata": {},
     "output_type": "execute_result"
    }
   ],
   "source": [
    " edades[['Juan', 'Luisa']]"
   ]
  },
  {
   "cell_type": "code",
   "execution_count": 123,
   "id": "8fe9bdb7",
   "metadata": {},
   "outputs": [
    {
     "data": {
      "text/plain": [
       "40"
      ]
     },
     "execution_count": 123,
     "metadata": {},
     "output_type": "execute_result"
    }
   ],
   "source": [
    "edades[0]"
   ]
  },
  {
   "cell_type": "code",
   "execution_count": 124,
   "id": "4a8e93d1",
   "metadata": {},
   "outputs": [
    {
     "data": {
      "text/plain": [
       "Maria        20\n",
       "Francisco    36\n",
       "dtype: int64"
      ]
     },
     "execution_count": 124,
     "metadata": {},
     "output_type": "execute_result"
    }
   ],
   "source": [
    "edades[1:3]"
   ]
  },
  {
   "cell_type": "code",
   "execution_count": 125,
   "id": "6a90f8fb",
   "metadata": {},
   "outputs": [
    {
     "data": {
      "text/plain": [
       "Juan         40\n",
       "Francisco    36\n",
       "dtype: int64"
      ]
     },
     "execution_count": 125,
     "metadata": {},
     "output_type": "execute_result"
    }
   ],
   "source": [
    "edades[[0, 2]]"
   ]
  },
  {
   "cell_type": "markdown",
   "id": "82c0e42c",
   "metadata": {},
   "source": [
    "## Métodos básicos comunes"
   ]
  },
  {
   "cell_type": "code",
   "execution_count": 126,
   "id": "af9a7205",
   "metadata": {},
   "outputs": [],
   "source": [
    "edades = edades.astype(\"i2\")"
   ]
  },
  {
   "cell_type": "code",
   "execution_count": 127,
   "id": "1f162a04",
   "metadata": {},
   "outputs": [
    {
     "data": {
      "text/plain": [
       "Juan         40\n",
       "Maria        20\n",
       "Francisco    36\n",
       "Mireya       34\n",
       "Luisa        20\n",
       "dtype: int16"
      ]
     },
     "execution_count": 127,
     "metadata": {},
     "output_type": "execute_result"
    }
   ],
   "source": [
    "edades"
   ]
  },
  {
   "cell_type": "code",
   "execution_count": 128,
   "id": "a8b09ff7",
   "metadata": {},
   "outputs": [
    {
     "data": {
      "text/plain": [
       "20    2\n",
       "40    1\n",
       "36    1\n",
       "34    1\n",
       "dtype: int64"
      ]
     },
     "execution_count": 128,
     "metadata": {},
     "output_type": "execute_result"
    }
   ],
   "source": [
    "edades.value_counts()"
   ]
  },
  {
   "cell_type": "code",
   "execution_count": 129,
   "id": "fd20272d",
   "metadata": {},
   "outputs": [],
   "source": [
    "edades.sort_values(inplace=True)"
   ]
  },
  {
   "cell_type": "code",
   "execution_count": 130,
   "id": "d8ddf617",
   "metadata": {},
   "outputs": [
    {
     "data": {
      "text/plain": [
       "Maria        20\n",
       "Luisa        20\n",
       "Mireya       34\n",
       "Francisco    36\n",
       "Juan         40\n",
       "dtype: int16"
      ]
     },
     "execution_count": 130,
     "metadata": {},
     "output_type": "execute_result"
    }
   ],
   "source": [
    "edades"
   ]
  },
  {
   "cell_type": "code",
   "execution_count": 131,
   "id": "3a605bcc",
   "metadata": {},
   "outputs": [
    {
     "data": {
      "text/plain": [
       "Francisco    36\n",
       "Juan         40\n",
       "Luisa        20\n",
       "Maria        20\n",
       "Mireya       34\n",
       "dtype: int16"
      ]
     },
     "execution_count": 131,
     "metadata": {},
     "output_type": "execute_result"
    }
   ],
   "source": [
    "edades.sort_index(inplace=True)\n",
    "edades"
   ]
  },
  {
   "cell_type": "markdown",
   "id": "f46da6a8",
   "metadata": {},
   "source": [
    "## Operaciones vectoriales artiméticas"
   ]
  },
  {
   "cell_type": "code",
   "execution_count": 132,
   "id": "73394820",
   "metadata": {},
   "outputs": [],
   "source": [
    "edades = edades + 1"
   ]
  },
  {
   "cell_type": "code",
   "execution_count": 133,
   "id": "52c39ba2",
   "metadata": {},
   "outputs": [
    {
     "data": {
      "text/plain": [
       "Francisco    37\n",
       "Juan         41\n",
       "Luisa        21\n",
       "Maria        21\n",
       "Mireya       35\n",
       "dtype: int16"
      ]
     },
     "execution_count": 133,
     "metadata": {},
     "output_type": "execute_result"
    }
   ],
   "source": [
    "edades"
   ]
  },
  {
   "cell_type": "code",
   "execution_count": 135,
   "id": "3b53db86",
   "metadata": {},
   "outputs": [
    {
     "data": {
      "text/plain": [
       "Francisco    18.5\n",
       "Juan         20.5\n",
       "Luisa        10.5\n",
       "Maria        10.5\n",
       "Mireya       17.5\n",
       "dtype: float16"
      ]
     },
     "execution_count": 135,
     "metadata": {},
     "output_type": "execute_result"
    }
   ],
   "source": [
    "(edades / 2).astype('f2')"
   ]
  },
  {
   "cell_type": "code",
   "execution_count": 136,
   "id": "43571568",
   "metadata": {},
   "outputs": [
    {
     "data": {
      "text/plain": [
       "Francisco    74\n",
       "Juan         82\n",
       "Luisa        42\n",
       "Maria        42\n",
       "Mireya       70\n",
       "dtype: int16"
      ]
     },
     "execution_count": 136,
     "metadata": {},
     "output_type": "execute_result"
    }
   ],
   "source": [
    "edades + edades"
   ]
  },
  {
   "cell_type": "code",
   "execution_count": 137,
   "id": "7cda28a5",
   "metadata": {},
   "outputs": [
    {
     "data": {
      "text/plain": [
       "Francisco    74\n",
       "Juan         82\n",
       "Luisa        42\n",
       "Maria        42\n",
       "Mireya       70\n",
       "dtype: int16"
      ]
     },
     "execution_count": 137,
     "metadata": {},
     "output_type": "execute_result"
    }
   ],
   "source": [
    "edades * 2"
   ]
  },
  {
   "cell_type": "markdown",
   "id": "46b15338",
   "metadata": {},
   "source": [
    "## Funciones estadísticas y agregación"
   ]
  },
  {
   "cell_type": "code",
   "execution_count": 138,
   "id": "c671de28",
   "metadata": {},
   "outputs": [
    {
     "data": {
      "text/plain": [
       "Francisco    37\n",
       "Juan         41\n",
       "Luisa        21\n",
       "Maria        21\n",
       "Mireya       35\n",
       "dtype: int16"
      ]
     },
     "execution_count": 138,
     "metadata": {},
     "output_type": "execute_result"
    }
   ],
   "source": [
    "edades"
   ]
  },
  {
   "cell_type": "code",
   "execution_count": 144,
   "id": "56b14a30",
   "metadata": {},
   "outputs": [
    {
     "data": {
      "text/plain": [
       "(41, 1)"
      ]
     },
     "execution_count": 144,
     "metadata": {},
     "output_type": "execute_result"
    }
   ],
   "source": [
    "edades.max(), edades.argmax()"
   ]
  },
  {
   "cell_type": "code",
   "execution_count": 145,
   "id": "b775923a",
   "metadata": {},
   "outputs": [
    {
     "data": {
      "text/plain": [
       "(21, 2)"
      ]
     },
     "execution_count": 145,
     "metadata": {},
     "output_type": "execute_result"
    }
   ],
   "source": [
    "edades.min(), edades.argmin()"
   ]
  },
  {
   "cell_type": "code",
   "execution_count": 143,
   "id": "d3a601d4",
   "metadata": {},
   "outputs": [
    {
     "data": {
      "text/plain": [
       "155"
      ]
     },
     "execution_count": 143,
     "metadata": {},
     "output_type": "execute_result"
    }
   ],
   "source": [
    "edades.sum()"
   ]
  },
  {
   "cell_type": "code",
   "execution_count": 146,
   "id": "6726c375",
   "metadata": {},
   "outputs": [
    {
     "data": {
      "text/plain": [
       "0    21\n",
       "dtype: int16"
      ]
     },
     "execution_count": 146,
     "metadata": {},
     "output_type": "execute_result"
    }
   ],
   "source": [
    "edades.mode()"
   ]
  },
  {
   "cell_type": "code",
   "execution_count": 147,
   "id": "da244e63",
   "metadata": {},
   "outputs": [
    {
     "data": {
      "text/plain": [
       "31.0"
      ]
     },
     "execution_count": 147,
     "metadata": {},
     "output_type": "execute_result"
    }
   ],
   "source": [
    "edades.mean()"
   ]
  },
  {
   "cell_type": "code",
   "execution_count": 148,
   "id": "9c8be7e4",
   "metadata": {},
   "outputs": [
    {
     "data": {
      "text/plain": [
       "35.0"
      ]
     },
     "execution_count": 148,
     "metadata": {},
     "output_type": "execute_result"
    }
   ],
   "source": [
    "edades.median()"
   ]
  },
  {
   "cell_type": "code",
   "execution_count": 149,
   "id": "81cccff9",
   "metadata": {},
   "outputs": [
    {
     "data": {
      "text/plain": [
       "9.38083151964686"
      ]
     },
     "execution_count": 149,
     "metadata": {},
     "output_type": "execute_result"
    }
   ],
   "source": [
    "edades.std()"
   ]
  },
  {
   "cell_type": "code",
   "execution_count": 150,
   "id": "42fd3c1f",
   "metadata": {},
   "outputs": [
    {
     "data": {
      "text/plain": [
       "5"
      ]
     },
     "execution_count": 150,
     "metadata": {},
     "output_type": "execute_result"
    }
   ],
   "source": [
    "edades.count()"
   ]
  },
  {
   "cell_type": "code",
   "execution_count": 151,
   "id": "f04ab337",
   "metadata": {},
   "outputs": [
    {
     "data": {
      "text/plain": [
       "count     5.000000\n",
       "mean     31.000000\n",
       "std       9.380832\n",
       "min      21.000000\n",
       "25%      21.000000\n",
       "50%      35.000000\n",
       "75%      37.000000\n",
       "max      41.000000\n",
       "dtype: float64"
      ]
     },
     "execution_count": 151,
     "metadata": {},
     "output_type": "execute_result"
    }
   ],
   "source": [
    "edades.describe()"
   ]
  },
  {
   "cell_type": "code",
   "execution_count": 159,
   "id": "dcead65e",
   "metadata": {},
   "outputs": [
    {
     "data": {
      "text/plain": [
       "36.6"
      ]
     },
     "execution_count": 159,
     "metadata": {},
     "output_type": "execute_result"
    }
   ],
   "source": [
    "edades.quantile(0.70)"
   ]
  },
  {
   "cell_type": "code",
   "execution_count": 160,
   "id": "4c34e813",
   "metadata": {},
   "outputs": [
    {
     "data": {
      "text/plain": [
       "<AxesSubplot:>"
      ]
     },
     "execution_count": 160,
     "metadata": {},
     "output_type": "execute_result"
    },
    {
     "data": {
      "image/png": "[encoded data removed]",
      "text/plain": [
       "<Figure size 432x288 with 1 Axes>"
      ]
     },
     "metadata": {
      "needs_background": "light"
     },
     "output_type": "display_data"
    }
   ],
   "source": [
    "edades.plot()"
   ]
  },
  {
   "cell_type": "code",
   "execution_count": 161,
   "id": "baa05eba",
   "metadata": {},
   "outputs": [],
   "source": [
    "edades.sort_values(inplace=True)"
   ]
  },
  {
   "cell_type": "code",
   "execution_count": 162,
   "id": "93606476",
   "metadata": {},
   "outputs": [
    {
     "data": {
      "text/plain": [
       "<AxesSubplot:>"
      ]
     },
     "execution_count": 162,
     "metadata": {},
     "output_type": "execute_result"
    },
    {
     "data": {
      "image/png": "[encoded data removed]",
      "text/plain": [
       "<Figure size 432x288 with 1 Axes>"
      ]
     },
     "metadata": {
      "needs_background": "light"
     },
     "output_type": "display_data"
    }
   ],
   "source": [
    "edades.plot()"
   ]
  },
  {
   "cell_type": "code",
   "execution_count": null,
   "id": "d227ef8a",
   "metadata": {},
   "outputs": [],
   "source": []
  }
 ],
 "metadata": {
  "kernelspec": {
   "display_name": "DSS",
   "language": "python",
   "name": "dss"
  },
  "language_info": {
   "codemirror_mode": {
    "name": "ipython",
    "version": 3
   },
   "file_extension": ".py",
   "mimetype": "text/x-python",
   "name": "python",
   "nbconvert_exporter": "python",
   "pygments_lexer": "ipython3",
   "version": "3.8.11"
  }
 },
 "nbformat": 4,
 "nbformat_minor": 5
}
