{
 "cells": [
  {
   "cell_type": "markdown",
   "id": "054ca2be",
   "metadata": {},
   "source": [
    "# Creación y manipulaciónde series de Pandas\n",
    "\n",
    "## Creación de una serie"
   ]
  },
  {
   "cell_type": "code",
   "execution_count": 1,
   "id": "7e36d670",
   "metadata": {},
   "outputs": [],
   "source": [
    "import pandas as pd"
   ]
  },
  {
   "cell_type": "code",
   "execution_count": 2,
   "id": "722be46c",
   "metadata": {},
   "outputs": [],
   "source": [
    "indice = ['Juan', 'Maria', 'Francisco', 'Mireya', 'Luisa']\n",
    "datos_lista = [40, 20, 36, 34, 20]"
   ]
  },
  {
   "cell_type": "code",
   "execution_count": 5,
   "id": "aa4c6d5c",
   "metadata": {},
   "outputs": [],
   "source": [
    "edades = pd.Series(datos_lista, index = indice)"
   ]
  },
  {
   "cell_type": "code",
   "execution_count": 6,
   "id": "ff3cc205",
   "metadata": {},
   "outputs": [
    {
     "data": {
      "text/plain": [
       "Juan         40\n",
       "Maria        20\n",
       "Francisco    36\n",
       "Mireya       34\n",
       "Luisa        20\n",
       "dtype: int64"
      ]
     },
     "execution_count": 6,
     "metadata": {},
     "output_type": "execute_result"
    }
   ],
   "source": [
    "edades"
   ]
  },
  {
   "cell_type": "code",
   "execution_count": 26,
   "id": "b7125dc3",
   "metadata": {},
   "outputs": [],
   "source": [
    "datos = dict(zip(indice, datos_lista))"
   ]
  },
  {
   "cell_type": "code",
   "execution_count": 27,
   "id": "ca566ee3",
   "metadata": {},
   "outputs": [
    {
     "data": {
      "text/plain": [
       "Juan         40\n",
       "Maria        20\n",
       "Francisco    36\n",
       "Mireya       34\n",
       "Luisa        20\n",
       "dtype: int64"
      ]
     },
     "execution_count": 27,
     "metadata": {},
     "output_type": "execute_result"
    }
   ],
   "source": [
    "edades = pd.Series(datos)\n",
    "edades"
   ]
  },
  {
   "cell_type": "code",
   "execution_count": 28,
   "id": "2e237089",
   "metadata": {},
   "outputs": [
    {
     "data": {
      "text/plain": [
       "dtype('int64')"
      ]
     },
     "execution_count": 28,
     "metadata": {},
     "output_type": "execute_result"
    }
   ],
   "source": [
    "edades.dtype"
   ]
  },
  {
   "cell_type": "code",
   "execution_count": 29,
   "id": "6821fff0",
   "metadata": {},
   "outputs": [
    {
     "data": {
      "text/plain": [
       "5"
      ]
     },
     "execution_count": 29,
     "metadata": {},
     "output_type": "execute_result"
    }
   ],
   "source": [
    "edades.size"
   ]
  },
  {
   "cell_type": "code",
   "execution_count": 30,
   "id": "876c2e52",
   "metadata": {},
   "outputs": [
    {
     "data": {
      "text/plain": [
       "Index(['Juan', 'Maria', 'Francisco', 'Mireya', 'Luisa'], dtype='object')"
      ]
     },
     "execution_count": 30,
     "metadata": {},
     "output_type": "execute_result"
    }
   ],
   "source": [
    "edades.index"
   ]
  },
  {
   "cell_type": "code",
   "execution_count": 42,
   "id": "32011ce2",
   "metadata": {},
   "outputs": [
    {
     "data": {
      "text/plain": [
       "array([40, 20, 36, 34, 20], dtype=int64)"
      ]
     },
     "execution_count": 42,
     "metadata": {},
     "output_type": "execute_result"
    }
   ],
   "source": [
    "edades.values"
   ]
  },
  {
   "cell_type": "code",
   "execution_count": 58,
   "id": "59d30ae2",
   "metadata": {},
   "outputs": [
    {
     "name": "stdout",
     "output_type": "stream",
     "text": [
      "20\n",
      "20\n",
      "20\n",
      "20\n",
      "20\n"
     ]
    }
   ],
   "source": [
    "for x, y in zip(list(edades.index), list(edades.values)):\n",
    "    print(item)"
   ]
  },
  {
   "cell_type": "code",
   "execution_count": 56,
   "id": "cc977e57",
   "metadata": {},
   "outputs": [
    {
     "name": "stdout",
     "output_type": "stream",
     "text": [
      "Juan 40\n",
      "Maria 20\n",
      "Francisco 36\n",
      "Mireya 34\n",
      "Luisa 20\n"
     ]
    }
   ],
   "source": [
    "for (a, b) in zip(indice, edades):\n",
    "    print(a, b)"
   ]
  },
  {
   "cell_type": "code",
   "execution_count": null,
   "id": "e4d580ce",
   "metadata": {},
   "outputs": [],
   "source": [
    "type()"
   ]
  },
  {
   "cell_type": "code",
   "execution_count": 53,
   "id": "cf6b0a58",
   "metadata": {},
   "outputs": [],
   "source": []
  },
  {
   "cell_type": "code",
   "execution_count": null,
   "id": "8fe9bdb7",
   "metadata": {},
   "outputs": [],
   "source": []
  },
  {
   "cell_type": "code",
   "execution_count": null,
   "id": "4a8e93d1",
   "metadata": {},
   "outputs": [],
   "source": []
  }
 ],
 "metadata": {
  "kernelspec": {
   "display_name": "DSS",
   "language": "python",
   "name": "dss"
  },
  "language_info": {
   "codemirror_mode": {
    "name": "ipython",
    "version": 3
   },
   "file_extension": ".py",
   "mimetype": "text/x-python",
   "name": "python",
   "nbconvert_exporter": "python",
   "pygments_lexer": "ipython3",
   "version": "3.8.11"
  }
 },
 "nbformat": 4,
 "nbformat_minor": 5
}
