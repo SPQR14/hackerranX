{
 "cells": [
  {
   "cell_type": "code",
   "execution_count": 1,
   "id": "37a00989",
   "metadata": {},
   "outputs": [],
   "source": [
    "import pandas as pd\n",
    "import numpy as np"
   ]
  },
  {
   "cell_type": "code",
   "execution_count": 8,
   "id": "ec230752",
   "metadata": {},
   "outputs": [],
   "source": [
    "nombre_paises = [\"China\", \"India\", \"Estados Unidos\", \"Indonesia\", \"Pakistán\",\n",
    "                 \"Brasil\", \"Nigeria\", \"Bangladesh\", \"Rusia\", \"México\"]\n",
    "\n",
    "encabezado = [\"poblacion\", \"porcentaje\"]\n",
    "\n",
    "datos = [[1439, 18.47],\n",
    "        [1380, 17.70],\n",
    "        [331, 4.25],\n",
    "        [273, 3.51], \n",
    "        [220, 2.83],\n",
    "        [212, 2.73], \n",
    "        [206, 2.64],\n",
    "        [164, 2.11],\n",
    "        [145, 1.87],\n",
    "        [128, 1.65]]"
   ]
  },
  {
   "cell_type": "code",
   "execution_count": 13,
   "id": "a1cd7431",
   "metadata": {},
   "outputs": [],
   "source": [
    "paises = pd.DataFrame(datos, index=nombre_paises, columns = encabezado)"
   ]
  },
  {
   "cell_type": "code",
   "execution_count": 14,
   "id": "bbe24418",
   "metadata": {},
   "outputs": [
    {
     "data": {
      "text/html": [
       "<div>\n",
       "<style scoped>\n",
       "    .dataframe tbody tr th:only-of-type {\n",
       "        vertical-align: middle;\n",
       "    }\n",
       "\n",
       "    .dataframe tbody tr th {\n",
       "        vertical-align: top;\n",
       "    }\n",
       "\n",
       "    .dataframe thead th {\n",
       "        text-align: right;\n",
       "    }\n",
       "</style>\n",
       "<table border=\"1\" class=\"dataframe\">\n",
       "  <thead>\n",
       "    <tr style=\"text-align: right;\">\n",
       "      <th></th>\n",
       "      <th>poblacion</th>\n",
       "      <th>porcentaje</th>\n",
       "    </tr>\n",
       "  </thead>\n",
       "  <tbody>\n",
       "    <tr>\n",
       "      <th>China</th>\n",
       "      <td>1439</td>\n",
       "      <td>18.47</td>\n",
       "    </tr>\n",
       "    <tr>\n",
       "      <th>India</th>\n",
       "      <td>1380</td>\n",
       "      <td>17.70</td>\n",
       "    </tr>\n",
       "    <tr>\n",
       "      <th>Estados Unidos</th>\n",
       "      <td>331</td>\n",
       "      <td>4.25</td>\n",
       "    </tr>\n",
       "    <tr>\n",
       "      <th>Indonesia</th>\n",
       "      <td>273</td>\n",
       "      <td>3.51</td>\n",
       "    </tr>\n",
       "    <tr>\n",
       "      <th>Pakistán</th>\n",
       "      <td>220</td>\n",
       "      <td>2.83</td>\n",
       "    </tr>\n",
       "    <tr>\n",
       "      <th>Brasil</th>\n",
       "      <td>212</td>\n",
       "      <td>2.73</td>\n",
       "    </tr>\n",
       "    <tr>\n",
       "      <th>Nigeria</th>\n",
       "      <td>206</td>\n",
       "      <td>2.64</td>\n",
       "    </tr>\n",
       "    <tr>\n",
       "      <th>Bangladesh</th>\n",
       "      <td>164</td>\n",
       "      <td>2.11</td>\n",
       "    </tr>\n",
       "    <tr>\n",
       "      <th>Rusia</th>\n",
       "      <td>145</td>\n",
       "      <td>1.87</td>\n",
       "    </tr>\n",
       "    <tr>\n",
       "      <th>México</th>\n",
       "      <td>128</td>\n",
       "      <td>1.65</td>\n",
       "    </tr>\n",
       "  </tbody>\n",
       "</table>\n",
       "</div>"
      ],
      "text/plain": [
       "                poblacion  porcentaje\n",
       "China                1439       18.47\n",
       "India                1380       17.70\n",
       "Estados Unidos        331        4.25\n",
       "Indonesia             273        3.51\n",
       "Pakistán              220        2.83\n",
       "Brasil                212        2.73\n",
       "Nigeria               206        2.64\n",
       "Bangladesh            164        2.11\n",
       "Rusia                 145        1.87\n",
       "México                128        1.65"
      ]
     },
     "execution_count": 14,
     "metadata": {},
     "output_type": "execute_result"
    }
   ],
   "source": [
    "paises"
   ]
  },
  {
   "cell_type": "code",
   "execution_count": 31,
   "id": "16b74857",
   "metadata": {},
   "outputs": [],
   "source": [
    "datos_d = dict(zip(nombre_paises, datos))"
   ]
  },
  {
   "cell_type": "code",
   "execution_count": 32,
   "id": "bde7429d",
   "metadata": {},
   "outputs": [],
   "source": [
    "paises = pd.DataFrame(datos_d, index = encabezado)"
   ]
  },
  {
   "cell_type": "code",
   "execution_count": 33,
   "id": "73e060e3",
   "metadata": {},
   "outputs": [
    {
     "data": {
      "text/html": [
       "<div>\n",
       "<style scoped>\n",
       "    .dataframe tbody tr th:only-of-type {\n",
       "        vertical-align: middle;\n",
       "    }\n",
       "\n",
       "    .dataframe tbody tr th {\n",
       "        vertical-align: top;\n",
       "    }\n",
       "\n",
       "    .dataframe thead th {\n",
       "        text-align: right;\n",
       "    }\n",
       "</style>\n",
       "<table border=\"1\" class=\"dataframe\">\n",
       "  <thead>\n",
       "    <tr style=\"text-align: right;\">\n",
       "      <th></th>\n",
       "      <th>China</th>\n",
       "      <th>India</th>\n",
       "      <th>Estados Unidos</th>\n",
       "      <th>Indonesia</th>\n",
       "      <th>Pakistán</th>\n",
       "      <th>Brasil</th>\n",
       "      <th>Nigeria</th>\n",
       "      <th>Bangladesh</th>\n",
       "      <th>Rusia</th>\n",
       "      <th>México</th>\n",
       "    </tr>\n",
       "  </thead>\n",
       "  <tbody>\n",
       "    <tr>\n",
       "      <th>poblacion</th>\n",
       "      <td>1439.00</td>\n",
       "      <td>1380.0</td>\n",
       "      <td>331.00</td>\n",
       "      <td>273.00</td>\n",
       "      <td>220.00</td>\n",
       "      <td>212.00</td>\n",
       "      <td>206.00</td>\n",
       "      <td>164.00</td>\n",
       "      <td>145.00</td>\n",
       "      <td>128.00</td>\n",
       "    </tr>\n",
       "    <tr>\n",
       "      <th>porcentaje</th>\n",
       "      <td>18.47</td>\n",
       "      <td>17.7</td>\n",
       "      <td>4.25</td>\n",
       "      <td>3.51</td>\n",
       "      <td>2.83</td>\n",
       "      <td>2.73</td>\n",
       "      <td>2.64</td>\n",
       "      <td>2.11</td>\n",
       "      <td>1.87</td>\n",
       "      <td>1.65</td>\n",
       "    </tr>\n",
       "  </tbody>\n",
       "</table>\n",
       "</div>"
      ],
      "text/plain": [
       "              China   India  Estados Unidos  Indonesia  Pakistán  Brasil  \\\n",
       "poblacion   1439.00  1380.0          331.00     273.00    220.00  212.00   \n",
       "porcentaje    18.47    17.7            4.25       3.51      2.83    2.73   \n",
       "\n",
       "            Nigeria  Bangladesh   Rusia  México  \n",
       "poblacion    206.00      164.00  145.00  128.00  \n",
       "porcentaje     2.64        2.11    1.87    1.65  "
      ]
     },
     "execution_count": 33,
     "metadata": {},
     "output_type": "execute_result"
    }
   ],
   "source": [
    "paises"
   ]
  },
  {
   "cell_type": "code",
   "execution_count": 34,
   "id": "1c86303f",
   "metadata": {},
   "outputs": [],
   "source": [
    "paises = paises.transpose()\n",
    "paises['poblacion'] = paises['poblacion'].astype('i2')"
   ]
  },
  {
   "cell_type": "code",
   "execution_count": 35,
   "id": "06938dda",
   "metadata": {},
   "outputs": [
    {
     "data": {
      "text/html": [
       "<div>\n",
       "<style scoped>\n",
       "    .dataframe tbody tr th:only-of-type {\n",
       "        vertical-align: middle;\n",
       "    }\n",
       "\n",
       "    .dataframe tbody tr th {\n",
       "        vertical-align: top;\n",
       "    }\n",
       "\n",
       "    .dataframe thead th {\n",
       "        text-align: right;\n",
       "    }\n",
       "</style>\n",
       "<table border=\"1\" class=\"dataframe\">\n",
       "  <thead>\n",
       "    <tr style=\"text-align: right;\">\n",
       "      <th></th>\n",
       "      <th>poblacion</th>\n",
       "      <th>porcentaje</th>\n",
       "    </tr>\n",
       "  </thead>\n",
       "  <tbody>\n",
       "    <tr>\n",
       "      <th>China</th>\n",
       "      <td>1439</td>\n",
       "      <td>18.47</td>\n",
       "    </tr>\n",
       "    <tr>\n",
       "      <th>India</th>\n",
       "      <td>1380</td>\n",
       "      <td>17.70</td>\n",
       "    </tr>\n",
       "    <tr>\n",
       "      <th>Estados Unidos</th>\n",
       "      <td>331</td>\n",
       "      <td>4.25</td>\n",
       "    </tr>\n",
       "    <tr>\n",
       "      <th>Indonesia</th>\n",
       "      <td>273</td>\n",
       "      <td>3.51</td>\n",
       "    </tr>\n",
       "    <tr>\n",
       "      <th>Pakistán</th>\n",
       "      <td>220</td>\n",
       "      <td>2.83</td>\n",
       "    </tr>\n",
       "    <tr>\n",
       "      <th>Brasil</th>\n",
       "      <td>212</td>\n",
       "      <td>2.73</td>\n",
       "    </tr>\n",
       "    <tr>\n",
       "      <th>Nigeria</th>\n",
       "      <td>206</td>\n",
       "      <td>2.64</td>\n",
       "    </tr>\n",
       "    <tr>\n",
       "      <th>Bangladesh</th>\n",
       "      <td>164</td>\n",
       "      <td>2.11</td>\n",
       "    </tr>\n",
       "    <tr>\n",
       "      <th>Rusia</th>\n",
       "      <td>145</td>\n",
       "      <td>1.87</td>\n",
       "    </tr>\n",
       "    <tr>\n",
       "      <th>México</th>\n",
       "      <td>128</td>\n",
       "      <td>1.65</td>\n",
       "    </tr>\n",
       "  </tbody>\n",
       "</table>\n",
       "</div>"
      ],
      "text/plain": [
       "                poblacion  porcentaje\n",
       "China                1439       18.47\n",
       "India                1380       17.70\n",
       "Estados Unidos        331        4.25\n",
       "Indonesia             273        3.51\n",
       "Pakistán              220        2.83\n",
       "Brasil                212        2.73\n",
       "Nigeria               206        2.64\n",
       "Bangladesh            164        2.11\n",
       "Rusia                 145        1.87\n",
       "México                128        1.65"
      ]
     },
     "execution_count": 35,
     "metadata": {},
     "output_type": "execute_result"
    }
   ],
   "source": [
    "paises"
   ]
  },
  {
   "cell_type": "code",
   "execution_count": 37,
   "id": "b8accf51",
   "metadata": {},
   "outputs": [
    {
     "data": {
      "text/html": [
       "<div>\n",
       "<style scoped>\n",
       "    .dataframe tbody tr th:only-of-type {\n",
       "        vertical-align: middle;\n",
       "    }\n",
       "\n",
       "    .dataframe tbody tr th {\n",
       "        vertical-align: top;\n",
       "    }\n",
       "\n",
       "    .dataframe thead th {\n",
       "        text-align: right;\n",
       "    }\n",
       "</style>\n",
       "<table border=\"1\" class=\"dataframe\">\n",
       "  <thead>\n",
       "    <tr style=\"text-align: right;\">\n",
       "      <th></th>\n",
       "      <th>China</th>\n",
       "      <th>India</th>\n",
       "      <th>Estados Unidos</th>\n",
       "      <th>Indonesia</th>\n",
       "      <th>Pakistán</th>\n",
       "      <th>Brasil</th>\n",
       "      <th>Nigeria</th>\n",
       "      <th>Bangladesh</th>\n",
       "      <th>Rusia</th>\n",
       "      <th>México</th>\n",
       "    </tr>\n",
       "  </thead>\n",
       "  <tbody>\n",
       "    <tr>\n",
       "      <th>poblacion</th>\n",
       "      <td>1439.00</td>\n",
       "      <td>1380.0</td>\n",
       "      <td>331.00</td>\n",
       "      <td>273.00</td>\n",
       "      <td>220.00</td>\n",
       "      <td>212.00</td>\n",
       "      <td>206.00</td>\n",
       "      <td>164.00</td>\n",
       "      <td>145.00</td>\n",
       "      <td>128.00</td>\n",
       "    </tr>\n",
       "    <tr>\n",
       "      <th>porcentaje</th>\n",
       "      <td>18.47</td>\n",
       "      <td>17.7</td>\n",
       "      <td>4.25</td>\n",
       "      <td>3.51</td>\n",
       "      <td>2.83</td>\n",
       "      <td>2.73</td>\n",
       "      <td>2.64</td>\n",
       "      <td>2.11</td>\n",
       "      <td>1.87</td>\n",
       "      <td>1.65</td>\n",
       "    </tr>\n",
       "  </tbody>\n",
       "</table>\n",
       "</div>"
      ],
      "text/plain": [
       "              China   India  Estados Unidos  Indonesia  Pakistán  Brasil  \\\n",
       "poblacion   1439.00  1380.0          331.00     273.00    220.00  212.00   \n",
       "porcentaje    18.47    17.7            4.25       3.51      2.83    2.73   \n",
       "\n",
       "            Nigeria  Bangladesh   Rusia  México  \n",
       "poblacion    206.00      164.00  145.00  128.00  \n",
       "porcentaje     2.64        2.11    1.87    1.65  "
      ]
     },
     "execution_count": 37,
     "metadata": {},
     "output_type": "execute_result"
    }
   ],
   "source": [
    "paises.T"
   ]
  },
  {
   "cell_type": "code",
   "execution_count": 38,
   "id": "52d4a64a",
   "metadata": {},
   "outputs": [
    {
     "data": {
      "text/html": [
       "<div>\n",
       "<style scoped>\n",
       "    .dataframe tbody tr th:only-of-type {\n",
       "        vertical-align: middle;\n",
       "    }\n",
       "\n",
       "    .dataframe tbody tr th {\n",
       "        vertical-align: top;\n",
       "    }\n",
       "\n",
       "    .dataframe thead th {\n",
       "        text-align: right;\n",
       "    }\n",
       "</style>\n",
       "<table border=\"1\" class=\"dataframe\">\n",
       "  <thead>\n",
       "    <tr style=\"text-align: right;\">\n",
       "      <th></th>\n",
       "      <th>poblacion</th>\n",
       "      <th>porcentaje</th>\n",
       "    </tr>\n",
       "  </thead>\n",
       "  <tbody>\n",
       "    <tr>\n",
       "      <th>China</th>\n",
       "      <td>1439</td>\n",
       "      <td>18.47</td>\n",
       "    </tr>\n",
       "    <tr>\n",
       "      <th>India</th>\n",
       "      <td>1380</td>\n",
       "      <td>17.70</td>\n",
       "    </tr>\n",
       "    <tr>\n",
       "      <th>Estados Unidos</th>\n",
       "      <td>331</td>\n",
       "      <td>4.25</td>\n",
       "    </tr>\n",
       "    <tr>\n",
       "      <th>Indonesia</th>\n",
       "      <td>273</td>\n",
       "      <td>3.51</td>\n",
       "    </tr>\n",
       "    <tr>\n",
       "      <th>Pakistán</th>\n",
       "      <td>220</td>\n",
       "      <td>2.83</td>\n",
       "    </tr>\n",
       "    <tr>\n",
       "      <th>Brasil</th>\n",
       "      <td>212</td>\n",
       "      <td>2.73</td>\n",
       "    </tr>\n",
       "    <tr>\n",
       "      <th>Nigeria</th>\n",
       "      <td>206</td>\n",
       "      <td>2.64</td>\n",
       "    </tr>\n",
       "    <tr>\n",
       "      <th>Bangladesh</th>\n",
       "      <td>164</td>\n",
       "      <td>2.11</td>\n",
       "    </tr>\n",
       "    <tr>\n",
       "      <th>Rusia</th>\n",
       "      <td>145</td>\n",
       "      <td>1.87</td>\n",
       "    </tr>\n",
       "    <tr>\n",
       "      <th>México</th>\n",
       "      <td>128</td>\n",
       "      <td>1.65</td>\n",
       "    </tr>\n",
       "  </tbody>\n",
       "</table>\n",
       "</div>"
      ],
      "text/plain": [
       "                poblacion  porcentaje\n",
       "China                1439       18.47\n",
       "India                1380       17.70\n",
       "Estados Unidos        331        4.25\n",
       "Indonesia             273        3.51\n",
       "Pakistán              220        2.83\n",
       "Brasil                212        2.73\n",
       "Nigeria               206        2.64\n",
       "Bangladesh            164        2.11\n",
       "Rusia                 145        1.87\n",
       "México                128        1.65"
      ]
     },
     "execution_count": 38,
     "metadata": {},
     "output_type": "execute_result"
    }
   ],
   "source": [
    "paises"
   ]
  },
  {
   "cell_type": "markdown",
   "id": "61745d86",
   "metadata": {},
   "source": [
    "## Atributos básicos de un Dataframe"
   ]
  },
  {
   "cell_type": "code",
   "execution_count": 42,
   "id": "b21e80ea",
   "metadata": {},
   "outputs": [
    {
     "name": "stdout",
     "output_type": "stream",
     "text": [
      "poblacion       int16\n",
      "porcentaje    float64\n",
      "dtype: object\n"
     ]
    }
   ],
   "source": [
    "print(paises.dtypes)"
   ]
  },
  {
   "cell_type": "code",
   "execution_count": 43,
   "id": "dc260496",
   "metadata": {},
   "outputs": [
    {
     "data": {
      "text/plain": [
       "(array([[1439.  ,   18.47],\n",
       "        [1380.  ,   17.7 ],\n",
       "        [ 331.  ,    4.25],\n",
       "        [ 273.  ,    3.51],\n",
       "        [ 220.  ,    2.83],\n",
       "        [ 212.  ,    2.73],\n",
       "        [ 206.  ,    2.64],\n",
       "        [ 164.  ,    2.11],\n",
       "        [ 145.  ,    1.87],\n",
       "        [ 128.  ,    1.65]]),\n",
       " 20)"
      ]
     },
     "execution_count": 43,
     "metadata": {},
     "output_type": "execute_result"
    }
   ],
   "source": [
    "paises.values, paises.size"
   ]
  },
  {
   "cell_type": "code",
   "execution_count": 44,
   "id": "4f534d84",
   "metadata": {},
   "outputs": [
    {
     "data": {
      "text/plain": [
       "(Index(['China', 'India', 'Estados Unidos', 'Indonesia', 'Pakistán', 'Brasil',\n",
       "        'Nigeria', 'Bangladesh', 'Rusia', 'México'],\n",
       "       dtype='object'),\n",
       " Index(['poblacion', 'porcentaje'], dtype='object'))"
      ]
     },
     "execution_count": 44,
     "metadata": {},
     "output_type": "execute_result"
    }
   ],
   "source": [
    "paises.index, paises.columns"
   ]
  },
  {
   "cell_type": "code",
   "execution_count": 45,
   "id": "cdff59e0",
   "metadata": {},
   "outputs": [],
   "source": [
    "l = list(paises.index)"
   ]
  },
  {
   "cell_type": "code",
   "execution_count": 53,
   "id": "13b24795",
   "metadata": {},
   "outputs": [
    {
     "name": "stdout",
     "output_type": "stream",
     "text": [
      "China [1439.     18.47]\n",
      "India [1380.    17.7]\n",
      "Estados Unidos [331.     4.25]\n",
      "Indonesia [273.     3.51]\n",
      "Pakistán [220.     2.83]\n",
      "Brasil [212.     2.73]\n",
      "Nigeria [206.     2.64]\n",
      "Bangladesh [164.     2.11]\n",
      "Rusia [145.     1.87]\n",
      "México [128.     1.65]\n"
     ]
    }
   ],
   "source": [
    "for a, b in zip(list(paises.index), paises.values):\n",
    "    print(a, b)"
   ]
  },
  {
   "cell_type": "markdown",
   "id": "3f2239e3",
   "metadata": {},
   "source": [
    "## Acceso a los elementos de una DataFrame"
   ]
  },
  {
   "cell_type": "code",
   "execution_count": 54,
   "id": "7201d7ea",
   "metadata": {},
   "outputs": [
    {
     "data": {
      "text/plain": [
       "China             1439\n",
       "India             1380\n",
       "Estados Unidos     331\n",
       "Indonesia          273\n",
       "Pakistán           220\n",
       "Brasil             212\n",
       "Nigeria            206\n",
       "Bangladesh         164\n",
       "Rusia              145\n",
       "México             128\n",
       "Name: poblacion, dtype: int16"
      ]
     },
     "execution_count": 54,
     "metadata": {},
     "output_type": "execute_result"
    }
   ],
   "source": [
    "paises.poblacion"
   ]
  },
  {
   "cell_type": "code",
   "execution_count": 55,
   "id": "bf2f69b1",
   "metadata": {},
   "outputs": [
    {
     "data": {
      "text/plain": [
       "China             18.47\n",
       "India             17.70\n",
       "Estados Unidos     4.25\n",
       "Indonesia          3.51\n",
       "Pakistán           2.83\n",
       "Brasil             2.73\n",
       "Nigeria            2.64\n",
       "Bangladesh         2.11\n",
       "Rusia              1.87\n",
       "México             1.65\n",
       "Name: porcentaje, dtype: float64"
      ]
     },
     "execution_count": 55,
     "metadata": {},
     "output_type": "execute_result"
    }
   ],
   "source": [
    "paises.porcentaje"
   ]
  },
  {
   "cell_type": "code",
   "execution_count": 59,
   "id": "67b9bf0f",
   "metadata": {},
   "outputs": [
    {
     "data": {
      "text/plain": [
       "China             1439\n",
       "India             1380\n",
       "Estados Unidos     331\n",
       "Indonesia          273\n",
       "Pakistán           220\n",
       "Brasil             212\n",
       "Nigeria            206\n",
       "Bangladesh         164\n",
       "Rusia              145\n",
       "México             128\n",
       "Name: poblacion, dtype: int16"
      ]
     },
     "execution_count": 59,
     "metadata": {},
     "output_type": "execute_result"
    }
   ],
   "source": [
    "paises['poblacion']"
   ]
  },
  {
   "cell_type": "code",
   "execution_count": 60,
   "id": "dfcc6863",
   "metadata": {},
   "outputs": [
    {
     "data": {
      "text/html": [
       "<div>\n",
       "<style scoped>\n",
       "    .dataframe tbody tr th:only-of-type {\n",
       "        vertical-align: middle;\n",
       "    }\n",
       "\n",
       "    .dataframe tbody tr th {\n",
       "        vertical-align: top;\n",
       "    }\n",
       "\n",
       "    .dataframe thead th {\n",
       "        text-align: right;\n",
       "    }\n",
       "</style>\n",
       "<table border=\"1\" class=\"dataframe\">\n",
       "  <thead>\n",
       "    <tr style=\"text-align: right;\">\n",
       "      <th></th>\n",
       "      <th>poblacion</th>\n",
       "      <th>porcentaje</th>\n",
       "    </tr>\n",
       "  </thead>\n",
       "  <tbody>\n",
       "    <tr>\n",
       "      <th>China</th>\n",
       "      <td>1439</td>\n",
       "      <td>18.47</td>\n",
       "    </tr>\n",
       "    <tr>\n",
       "      <th>India</th>\n",
       "      <td>1380</td>\n",
       "      <td>17.70</td>\n",
       "    </tr>\n",
       "    <tr>\n",
       "      <th>Estados Unidos</th>\n",
       "      <td>331</td>\n",
       "      <td>4.25</td>\n",
       "    </tr>\n",
       "    <tr>\n",
       "      <th>Indonesia</th>\n",
       "      <td>273</td>\n",
       "      <td>3.51</td>\n",
       "    </tr>\n",
       "    <tr>\n",
       "      <th>Pakistán</th>\n",
       "      <td>220</td>\n",
       "      <td>2.83</td>\n",
       "    </tr>\n",
       "    <tr>\n",
       "      <th>Brasil</th>\n",
       "      <td>212</td>\n",
       "      <td>2.73</td>\n",
       "    </tr>\n",
       "    <tr>\n",
       "      <th>Nigeria</th>\n",
       "      <td>206</td>\n",
       "      <td>2.64</td>\n",
       "    </tr>\n",
       "    <tr>\n",
       "      <th>Bangladesh</th>\n",
       "      <td>164</td>\n",
       "      <td>2.11</td>\n",
       "    </tr>\n",
       "    <tr>\n",
       "      <th>Rusia</th>\n",
       "      <td>145</td>\n",
       "      <td>1.87</td>\n",
       "    </tr>\n",
       "    <tr>\n",
       "      <th>México</th>\n",
       "      <td>128</td>\n",
       "      <td>1.65</td>\n",
       "    </tr>\n",
       "  </tbody>\n",
       "</table>\n",
       "</div>"
      ],
      "text/plain": [
       "                poblacion  porcentaje\n",
       "China                1439       18.47\n",
       "India                1380       17.70\n",
       "Estados Unidos        331        4.25\n",
       "Indonesia             273        3.51\n",
       "Pakistán              220        2.83\n",
       "Brasil                212        2.73\n",
       "Nigeria               206        2.64\n",
       "Bangladesh            164        2.11\n",
       "Rusia                 145        1.87\n",
       "México                128        1.65"
      ]
     },
     "execution_count": 60,
     "metadata": {},
     "output_type": "execute_result"
    }
   ],
   "source": [
    "paises[['poblacion', 'porcentaje']]"
   ]
  },
  {
   "cell_type": "code",
   "execution_count": 61,
   "id": "72e1d53d",
   "metadata": {},
   "outputs": [
    {
     "data": {
      "text/plain": [
       "1439"
      ]
     },
     "execution_count": 61,
     "metadata": {},
     "output_type": "execute_result"
    }
   ],
   "source": [
    "paises['poblacion'][0]"
   ]
  },
  {
   "cell_type": "code",
   "execution_count": 62,
   "id": "d2319f52",
   "metadata": {},
   "outputs": [
    {
     "data": {
      "text/plain": [
       "China             1439\n",
       "India             1380\n",
       "Estados Unidos     331\n",
       "Name: poblacion, dtype: int16"
      ]
     },
     "execution_count": 62,
     "metadata": {},
     "output_type": "execute_result"
    }
   ],
   "source": [
    "paises['poblacion'][0:3]"
   ]
  },
  {
   "cell_type": "code",
   "execution_count": 64,
   "id": "8dc34c72",
   "metadata": {},
   "outputs": [
    {
     "data": {
      "text/plain": [
       "poblacion     1439.00\n",
       "porcentaje      18.47\n",
       "Name: China, dtype: float64"
      ]
     },
     "execution_count": 64,
     "metadata": {},
     "output_type": "execute_result"
    }
   ],
   "source": [
    "paises.iloc[0]  # se indica el índice"
   ]
  },
  {
   "cell_type": "code",
   "execution_count": 65,
   "id": "4d8c3dd8",
   "metadata": {},
   "outputs": [
    {
     "data": {
      "text/plain": [
       "poblacion     1439.00\n",
       "porcentaje      18.47\n",
       "Name: China, dtype: float64"
      ]
     },
     "execution_count": 65,
     "metadata": {},
     "output_type": "execute_result"
    }
   ],
   "source": [
    "paises.loc['China']  # Se indica por el índice"
   ]
  },
  {
   "cell_type": "markdown",
   "id": "5c1c5f62",
   "metadata": {},
   "source": [
    "## Métodos comunes de DataFrames"
   ]
  },
  {
   "cell_type": "code",
   "execution_count": 66,
   "id": "510f365a",
   "metadata": {},
   "outputs": [],
   "source": [
    "paises['porcentaje'] = paises['porcentaje'].astype('f2')"
   ]
  },
  {
   "cell_type": "code",
   "execution_count": 70,
   "id": "d8b0c1d0",
   "metadata": {},
   "outputs": [
    {
     "name": "stdout",
     "output_type": "stream",
     "text": [
      "<class 'pandas.core.frame.DataFrame'>\n",
      "Index: 10 entries, China to México\n",
      "Data columns (total 2 columns):\n",
      " #   Column      Non-Null Count  Dtype  \n",
      "---  ------      --------------  -----  \n",
      " 0   poblacion   10 non-null     int16  \n",
      " 1   porcentaje  10 non-null     float16\n",
      "dtypes: float16(1), int16(1)\n",
      "memory usage: 420.0+ bytes\n"
     ]
    }
   ],
   "source": [
    "paises.info()"
   ]
  },
  {
   "cell_type": "code",
   "execution_count": 72,
   "id": "464eee30",
   "metadata": {},
   "outputs": [
    {
     "data": {
      "text/html": [
       "<div>\n",
       "<style scoped>\n",
       "    .dataframe tbody tr th:only-of-type {\n",
       "        vertical-align: middle;\n",
       "    }\n",
       "\n",
       "    .dataframe tbody tr th {\n",
       "        vertical-align: top;\n",
       "    }\n",
       "\n",
       "    .dataframe thead th {\n",
       "        text-align: right;\n",
       "    }\n",
       "</style>\n",
       "<table border=\"1\" class=\"dataframe\">\n",
       "  <thead>\n",
       "    <tr style=\"text-align: right;\">\n",
       "      <th></th>\n",
       "      <th>poblacion</th>\n",
       "      <th>porcentaje</th>\n",
       "    </tr>\n",
       "  </thead>\n",
       "  <tbody>\n",
       "    <tr>\n",
       "      <th>China</th>\n",
       "      <td>1439</td>\n",
       "      <td>18.468750</td>\n",
       "    </tr>\n",
       "    <tr>\n",
       "      <th>India</th>\n",
       "      <td>1380</td>\n",
       "      <td>17.703125</td>\n",
       "    </tr>\n",
       "    <tr>\n",
       "      <th>Estados Unidos</th>\n",
       "      <td>331</td>\n",
       "      <td>4.250000</td>\n",
       "    </tr>\n",
       "    <tr>\n",
       "      <th>Indonesia</th>\n",
       "      <td>273</td>\n",
       "      <td>3.509766</td>\n",
       "    </tr>\n",
       "    <tr>\n",
       "      <th>Pakistán</th>\n",
       "      <td>220</td>\n",
       "      <td>2.830078</td>\n",
       "    </tr>\n",
       "  </tbody>\n",
       "</table>\n",
       "</div>"
      ],
      "text/plain": [
       "                poblacion  porcentaje\n",
       "China                1439   18.468750\n",
       "India                1380   17.703125\n",
       "Estados Unidos        331    4.250000\n",
       "Indonesia             273    3.509766\n",
       "Pakistán              220    2.830078"
      ]
     },
     "execution_count": 72,
     "metadata": {},
     "output_type": "execute_result"
    }
   ],
   "source": [
    "paises.head()"
   ]
  },
  {
   "cell_type": "code",
   "execution_count": 73,
   "id": "3fe1b4bf",
   "metadata": {},
   "outputs": [
    {
     "data": {
      "text/html": [
       "<div>\n",
       "<style scoped>\n",
       "    .dataframe tbody tr th:only-of-type {\n",
       "        vertical-align: middle;\n",
       "    }\n",
       "\n",
       "    .dataframe tbody tr th {\n",
       "        vertical-align: top;\n",
       "    }\n",
       "\n",
       "    .dataframe thead th {\n",
       "        text-align: right;\n",
       "    }\n",
       "</style>\n",
       "<table border=\"1\" class=\"dataframe\">\n",
       "  <thead>\n",
       "    <tr style=\"text-align: right;\">\n",
       "      <th></th>\n",
       "      <th>poblacion</th>\n",
       "      <th>porcentaje</th>\n",
       "    </tr>\n",
       "  </thead>\n",
       "  <tbody>\n",
       "    <tr>\n",
       "      <th>Brasil</th>\n",
       "      <td>212</td>\n",
       "      <td>2.730469</td>\n",
       "    </tr>\n",
       "    <tr>\n",
       "      <th>Nigeria</th>\n",
       "      <td>206</td>\n",
       "      <td>2.640625</td>\n",
       "    </tr>\n",
       "    <tr>\n",
       "      <th>Bangladesh</th>\n",
       "      <td>164</td>\n",
       "      <td>2.109375</td>\n",
       "    </tr>\n",
       "    <tr>\n",
       "      <th>Rusia</th>\n",
       "      <td>145</td>\n",
       "      <td>1.870117</td>\n",
       "    </tr>\n",
       "    <tr>\n",
       "      <th>México</th>\n",
       "      <td>128</td>\n",
       "      <td>1.650391</td>\n",
       "    </tr>\n",
       "  </tbody>\n",
       "</table>\n",
       "</div>"
      ],
      "text/plain": [
       "            poblacion  porcentaje\n",
       "Brasil            212    2.730469\n",
       "Nigeria           206    2.640625\n",
       "Bangladesh        164    2.109375\n",
       "Rusia             145    1.870117\n",
       "México            128    1.650391"
      ]
     },
     "execution_count": 73,
     "metadata": {},
     "output_type": "execute_result"
    }
   ],
   "source": [
    "paises.tail()"
   ]
  },
  {
   "cell_type": "code",
   "execution_count": 79,
   "id": "ae668f58",
   "metadata": {},
   "outputs": [
    {
     "data": {
      "text/html": [
       "<div>\n",
       "<style scoped>\n",
       "    .dataframe tbody tr th:only-of-type {\n",
       "        vertical-align: middle;\n",
       "    }\n",
       "\n",
       "    .dataframe tbody tr th {\n",
       "        vertical-align: top;\n",
       "    }\n",
       "\n",
       "    .dataframe thead th {\n",
       "        text-align: right;\n",
       "    }\n",
       "</style>\n",
       "<table border=\"1\" class=\"dataframe\">\n",
       "  <thead>\n",
       "    <tr style=\"text-align: right;\">\n",
       "      <th></th>\n",
       "      <th>poblacion</th>\n",
       "      <th>porcentaje</th>\n",
       "    </tr>\n",
       "  </thead>\n",
       "  <tbody>\n",
       "    <tr>\n",
       "      <th>México</th>\n",
       "      <td>128</td>\n",
       "      <td>1.650391</td>\n",
       "    </tr>\n",
       "    <tr>\n",
       "      <th>Rusia</th>\n",
       "      <td>145</td>\n",
       "      <td>1.870117</td>\n",
       "    </tr>\n",
       "    <tr>\n",
       "      <th>Bangladesh</th>\n",
       "      <td>164</td>\n",
       "      <td>2.109375</td>\n",
       "    </tr>\n",
       "    <tr>\n",
       "      <th>Nigeria</th>\n",
       "      <td>206</td>\n",
       "      <td>2.640625</td>\n",
       "    </tr>\n",
       "    <tr>\n",
       "      <th>Brasil</th>\n",
       "      <td>212</td>\n",
       "      <td>2.730469</td>\n",
       "    </tr>\n",
       "    <tr>\n",
       "      <th>Pakistán</th>\n",
       "      <td>220</td>\n",
       "      <td>2.830078</td>\n",
       "    </tr>\n",
       "    <tr>\n",
       "      <th>Indonesia</th>\n",
       "      <td>273</td>\n",
       "      <td>3.509766</td>\n",
       "    </tr>\n",
       "    <tr>\n",
       "      <th>Estados Unidos</th>\n",
       "      <td>331</td>\n",
       "      <td>4.250000</td>\n",
       "    </tr>\n",
       "    <tr>\n",
       "      <th>India</th>\n",
       "      <td>1380</td>\n",
       "      <td>17.703125</td>\n",
       "    </tr>\n",
       "    <tr>\n",
       "      <th>China</th>\n",
       "      <td>1439</td>\n",
       "      <td>18.468750</td>\n",
       "    </tr>\n",
       "  </tbody>\n",
       "</table>\n",
       "</div>"
      ],
      "text/plain": [
       "                poblacion  porcentaje\n",
       "México                128    1.650391\n",
       "Rusia                 145    1.870117\n",
       "Bangladesh            164    2.109375\n",
       "Nigeria               206    2.640625\n",
       "Brasil                212    2.730469\n",
       "Pakistán              220    2.830078\n",
       "Indonesia             273    3.509766\n",
       "Estados Unidos        331    4.250000\n",
       "India                1380   17.703125\n",
       "China                1439   18.468750"
      ]
     },
     "execution_count": 79,
     "metadata": {},
     "output_type": "execute_result"
    }
   ],
   "source": [
    "paises.sort_values(by=['poblacion', 'porcentaje'], ascending=True)"
   ]
  },
  {
   "cell_type": "code",
   "execution_count": 82,
   "id": "4597c3cd",
   "metadata": {},
   "outputs": [
    {
     "data": {
      "text/html": [
       "<div>\n",
       "<style scoped>\n",
       "    .dataframe tbody tr th:only-of-type {\n",
       "        vertical-align: middle;\n",
       "    }\n",
       "\n",
       "    .dataframe tbody tr th {\n",
       "        vertical-align: top;\n",
       "    }\n",
       "\n",
       "    .dataframe thead th {\n",
       "        text-align: right;\n",
       "    }\n",
       "</style>\n",
       "<table border=\"1\" class=\"dataframe\">\n",
       "  <thead>\n",
       "    <tr style=\"text-align: right;\">\n",
       "      <th></th>\n",
       "      <th>poblacion</th>\n",
       "      <th>porcentaje</th>\n",
       "    </tr>\n",
       "  </thead>\n",
       "  <tbody>\n",
       "    <tr>\n",
       "      <th>Bangladesh</th>\n",
       "      <td>164</td>\n",
       "      <td>2.109375</td>\n",
       "    </tr>\n",
       "    <tr>\n",
       "      <th>Brasil</th>\n",
       "      <td>212</td>\n",
       "      <td>2.730469</td>\n",
       "    </tr>\n",
       "    <tr>\n",
       "      <th>China</th>\n",
       "      <td>1439</td>\n",
       "      <td>18.468750</td>\n",
       "    </tr>\n",
       "    <tr>\n",
       "      <th>Estados Unidos</th>\n",
       "      <td>331</td>\n",
       "      <td>4.250000</td>\n",
       "    </tr>\n",
       "    <tr>\n",
       "      <th>India</th>\n",
       "      <td>1380</td>\n",
       "      <td>17.703125</td>\n",
       "    </tr>\n",
       "    <tr>\n",
       "      <th>Indonesia</th>\n",
       "      <td>273</td>\n",
       "      <td>3.509766</td>\n",
       "    </tr>\n",
       "    <tr>\n",
       "      <th>México</th>\n",
       "      <td>128</td>\n",
       "      <td>1.650391</td>\n",
       "    </tr>\n",
       "    <tr>\n",
       "      <th>Nigeria</th>\n",
       "      <td>206</td>\n",
       "      <td>2.640625</td>\n",
       "    </tr>\n",
       "    <tr>\n",
       "      <th>Pakistán</th>\n",
       "      <td>220</td>\n",
       "      <td>2.830078</td>\n",
       "    </tr>\n",
       "    <tr>\n",
       "      <th>Rusia</th>\n",
       "      <td>145</td>\n",
       "      <td>1.870117</td>\n",
       "    </tr>\n",
       "  </tbody>\n",
       "</table>\n",
       "</div>"
      ],
      "text/plain": [
       "                poblacion  porcentaje\n",
       "Bangladesh            164    2.109375\n",
       "Brasil                212    2.730469\n",
       "China                1439   18.468750\n",
       "Estados Unidos        331    4.250000\n",
       "India                1380   17.703125\n",
       "Indonesia             273    3.509766\n",
       "México                128    1.650391\n",
       "Nigeria               206    2.640625\n",
       "Pakistán              220    2.830078\n",
       "Rusia                 145    1.870117"
      ]
     },
     "execution_count": 82,
     "metadata": {},
     "output_type": "execute_result"
    }
   ],
   "source": [
    "paises.sort_index(ascending=True)"
   ]
  },
  {
   "cell_type": "code",
   "execution_count": 84,
   "id": "d4366ab7",
   "metadata": {},
   "outputs": [
    {
     "data": {
      "text/html": [
       "<div>\n",
       "<style scoped>\n",
       "    .dataframe tbody tr th:only-of-type {\n",
       "        vertical-align: middle;\n",
       "    }\n",
       "\n",
       "    .dataframe tbody tr th {\n",
       "        vertical-align: top;\n",
       "    }\n",
       "\n",
       "    .dataframe thead th {\n",
       "        text-align: right;\n",
       "    }\n",
       "</style>\n",
       "<table border=\"1\" class=\"dataframe\">\n",
       "  <thead>\n",
       "    <tr style=\"text-align: right;\">\n",
       "      <th></th>\n",
       "      <th>poblacion</th>\n",
       "      <th>porcentaje</th>\n",
       "    </tr>\n",
       "  </thead>\n",
       "  <tbody>\n",
       "    <tr>\n",
       "      <th>China</th>\n",
       "      <td>1439</td>\n",
       "      <td>18.468750</td>\n",
       "    </tr>\n",
       "    <tr>\n",
       "      <th>India</th>\n",
       "      <td>1380</td>\n",
       "      <td>17.703125</td>\n",
       "    </tr>\n",
       "    <tr>\n",
       "      <th>Estados Unidos</th>\n",
       "      <td>331</td>\n",
       "      <td>4.250000</td>\n",
       "    </tr>\n",
       "    <tr>\n",
       "      <th>Indonesia</th>\n",
       "      <td>273</td>\n",
       "      <td>3.509766</td>\n",
       "    </tr>\n",
       "    <tr>\n",
       "      <th>Pakistán</th>\n",
       "      <td>220</td>\n",
       "      <td>2.830078</td>\n",
       "    </tr>\n",
       "    <tr>\n",
       "      <th>Brasil</th>\n",
       "      <td>212</td>\n",
       "      <td>2.730469</td>\n",
       "    </tr>\n",
       "    <tr>\n",
       "      <th>Nigeria</th>\n",
       "      <td>206</td>\n",
       "      <td>2.640625</td>\n",
       "    </tr>\n",
       "    <tr>\n",
       "      <th>Bangladesh</th>\n",
       "      <td>164</td>\n",
       "      <td>2.109375</td>\n",
       "    </tr>\n",
       "    <tr>\n",
       "      <th>Rusia</th>\n",
       "      <td>145</td>\n",
       "      <td>1.870117</td>\n",
       "    </tr>\n",
       "    <tr>\n",
       "      <th>México</th>\n",
       "      <td>128</td>\n",
       "      <td>1.650391</td>\n",
       "    </tr>\n",
       "  </tbody>\n",
       "</table>\n",
       "</div>"
      ],
      "text/plain": [
       "                poblacion  porcentaje\n",
       "China                1439   18.468750\n",
       "India                1380   17.703125\n",
       "Estados Unidos        331    4.250000\n",
       "Indonesia             273    3.509766\n",
       "Pakistán              220    2.830078\n",
       "Brasil                212    2.730469\n",
       "Nigeria               206    2.640625\n",
       "Bangladesh            164    2.109375\n",
       "Rusia                 145    1.870117\n",
       "México                128    1.650391"
      ]
     },
     "execution_count": 84,
     "metadata": {},
     "output_type": "execute_result"
    }
   ],
   "source": [
    "paises"
   ]
  },
  {
   "cell_type": "markdown",
   "id": "0132d924",
   "metadata": {},
   "source": [
    "## Agregar y quitar renglones y columnas"
   ]
  },
  {
   "cell_type": "code",
   "execution_count": 94,
   "id": "ccc476d7",
   "metadata": {},
   "outputs": [],
   "source": [
    "tasa_fertilidad = [1.7, 2.2, 1.8, 2.3, 3.6, 1.7, 5.4, 2.1, 1.8, 2.1]\n",
    "paises['tasa de fertilidad'] = tasa_fertilidad"
   ]
  },
  {
   "cell_type": "code",
   "execution_count": 95,
   "id": "d566bc25",
   "metadata": {},
   "outputs": [
    {
     "data": {
      "text/html": [
       "<div>\n",
       "<style scoped>\n",
       "    .dataframe tbody tr th:only-of-type {\n",
       "        vertical-align: middle;\n",
       "    }\n",
       "\n",
       "    .dataframe tbody tr th {\n",
       "        vertical-align: top;\n",
       "    }\n",
       "\n",
       "    .dataframe thead th {\n",
       "        text-align: right;\n",
       "    }\n",
       "</style>\n",
       "<table border=\"1\" class=\"dataframe\">\n",
       "  <thead>\n",
       "    <tr style=\"text-align: right;\">\n",
       "      <th></th>\n",
       "      <th>poblacion</th>\n",
       "      <th>porcentaje</th>\n",
       "      <th>tasa de fertilidad</th>\n",
       "    </tr>\n",
       "  </thead>\n",
       "  <tbody>\n",
       "    <tr>\n",
       "      <th>China</th>\n",
       "      <td>1439</td>\n",
       "      <td>18.468750</td>\n",
       "      <td>1.7</td>\n",
       "    </tr>\n",
       "    <tr>\n",
       "      <th>India</th>\n",
       "      <td>1380</td>\n",
       "      <td>17.703125</td>\n",
       "      <td>2.2</td>\n",
       "    </tr>\n",
       "    <tr>\n",
       "      <th>Estados Unidos</th>\n",
       "      <td>331</td>\n",
       "      <td>4.250000</td>\n",
       "      <td>1.8</td>\n",
       "    </tr>\n",
       "    <tr>\n",
       "      <th>Indonesia</th>\n",
       "      <td>273</td>\n",
       "      <td>3.509766</td>\n",
       "      <td>2.3</td>\n",
       "    </tr>\n",
       "    <tr>\n",
       "      <th>Pakistán</th>\n",
       "      <td>220</td>\n",
       "      <td>2.830078</td>\n",
       "      <td>3.6</td>\n",
       "    </tr>\n",
       "    <tr>\n",
       "      <th>Brasil</th>\n",
       "      <td>212</td>\n",
       "      <td>2.730469</td>\n",
       "      <td>1.7</td>\n",
       "    </tr>\n",
       "    <tr>\n",
       "      <th>Nigeria</th>\n",
       "      <td>206</td>\n",
       "      <td>2.640625</td>\n",
       "      <td>5.4</td>\n",
       "    </tr>\n",
       "    <tr>\n",
       "      <th>Bangladesh</th>\n",
       "      <td>164</td>\n",
       "      <td>2.109375</td>\n",
       "      <td>2.1</td>\n",
       "    </tr>\n",
       "    <tr>\n",
       "      <th>Rusia</th>\n",
       "      <td>145</td>\n",
       "      <td>1.870117</td>\n",
       "      <td>1.8</td>\n",
       "    </tr>\n",
       "    <tr>\n",
       "      <th>México</th>\n",
       "      <td>128</td>\n",
       "      <td>1.650391</td>\n",
       "      <td>2.1</td>\n",
       "    </tr>\n",
       "  </tbody>\n",
       "</table>\n",
       "</div>"
      ],
      "text/plain": [
       "                poblacion  porcentaje  tasa de fertilidad\n",
       "China                1439   18.468750                 1.7\n",
       "India                1380   17.703125                 2.2\n",
       "Estados Unidos        331    4.250000                 1.8\n",
       "Indonesia             273    3.509766                 2.3\n",
       "Pakistán              220    2.830078                 3.6\n",
       "Brasil                212    2.730469                 1.7\n",
       "Nigeria               206    2.640625                 5.4\n",
       "Bangladesh            164    2.109375                 2.1\n",
       "Rusia                 145    1.870117                 1.8\n",
       "México                128    1.650391                 2.1"
      ]
     },
     "execution_count": 95,
     "metadata": {},
     "output_type": "execute_result"
    }
   ],
   "source": [
    " paises"
   ]
  },
  {
   "cell_type": "code",
   "execution_count": 91,
   "id": "90064520",
   "metadata": {},
   "outputs": [
    {
     "data": {
      "text/plain": [
       "China             1.7\n",
       "India             2.2\n",
       "Estados Unidos    1.8\n",
       "Indonesia         2.3\n",
       "Pakistán          3.6\n",
       "Brasil            1.7\n",
       "Nigeria           5.4\n",
       "Bangladesh        2.1\n",
       "Rusia             1.8\n",
       "México            2.1\n",
       "Name: tasa de fertilidad, dtype: float64"
      ]
     },
     "execution_count": 91,
     "metadata": {},
     "output_type": "execute_result"
    }
   ],
   "source": [
    "paises.pop('tasa de fertilidad')  # La quita del DF para ser procesada"
   ]
  },
  {
   "cell_type": "code",
   "execution_count": 93,
   "id": "8461ec1c",
   "metadata": {},
   "outputs": [
    {
     "data": {
      "text/html": [
       "<div>\n",
       "<style scoped>\n",
       "    .dataframe tbody tr th:only-of-type {\n",
       "        vertical-align: middle;\n",
       "    }\n",
       "\n",
       "    .dataframe tbody tr th {\n",
       "        vertical-align: top;\n",
       "    }\n",
       "\n",
       "    .dataframe thead th {\n",
       "        text-align: right;\n",
       "    }\n",
       "</style>\n",
       "<table border=\"1\" class=\"dataframe\">\n",
       "  <thead>\n",
       "    <tr style=\"text-align: right;\">\n",
       "      <th></th>\n",
       "      <th>poblacion</th>\n",
       "      <th>porcentaje</th>\n",
       "    </tr>\n",
       "  </thead>\n",
       "  <tbody>\n",
       "    <tr>\n",
       "      <th>China</th>\n",
       "      <td>1439</td>\n",
       "      <td>18.468750</td>\n",
       "    </tr>\n",
       "    <tr>\n",
       "      <th>India</th>\n",
       "      <td>1380</td>\n",
       "      <td>17.703125</td>\n",
       "    </tr>\n",
       "    <tr>\n",
       "      <th>Estados Unidos</th>\n",
       "      <td>331</td>\n",
       "      <td>4.250000</td>\n",
       "    </tr>\n",
       "    <tr>\n",
       "      <th>Indonesia</th>\n",
       "      <td>273</td>\n",
       "      <td>3.509766</td>\n",
       "    </tr>\n",
       "    <tr>\n",
       "      <th>Pakistán</th>\n",
       "      <td>220</td>\n",
       "      <td>2.830078</td>\n",
       "    </tr>\n",
       "    <tr>\n",
       "      <th>Brasil</th>\n",
       "      <td>212</td>\n",
       "      <td>2.730469</td>\n",
       "    </tr>\n",
       "    <tr>\n",
       "      <th>Nigeria</th>\n",
       "      <td>206</td>\n",
       "      <td>2.640625</td>\n",
       "    </tr>\n",
       "    <tr>\n",
       "      <th>Bangladesh</th>\n",
       "      <td>164</td>\n",
       "      <td>2.109375</td>\n",
       "    </tr>\n",
       "    <tr>\n",
       "      <th>Rusia</th>\n",
       "      <td>145</td>\n",
       "      <td>1.870117</td>\n",
       "    </tr>\n",
       "    <tr>\n",
       "      <th>México</th>\n",
       "      <td>128</td>\n",
       "      <td>1.650391</td>\n",
       "    </tr>\n",
       "  </tbody>\n",
       "</table>\n",
       "</div>"
      ],
      "text/plain": [
       "                poblacion  porcentaje\n",
       "China                1439   18.468750\n",
       "India                1380   17.703125\n",
       "Estados Unidos        331    4.250000\n",
       "Indonesia             273    3.509766\n",
       "Pakistán              220    2.830078\n",
       "Brasil                212    2.730469\n",
       "Nigeria               206    2.640625\n",
       "Bangladesh            164    2.109375\n",
       "Rusia                 145    1.870117\n",
       "México                128    1.650391"
      ]
     },
     "execution_count": 93,
     "metadata": {},
     "output_type": "execute_result"
    }
   ],
   "source": [
    "paises"
   ]
  },
  {
   "cell_type": "code",
   "execution_count": null,
   "id": "5ac23fd4",
   "metadata": {},
   "outputs": [],
   "source": []
  }
 ],
 "metadata": {
  "kernelspec": {
   "display_name": "DSS",
   "language": "python",
   "name": "dss"
  },
  "language_info": {
   "codemirror_mode": {
    "name": "ipython",
    "version": 3
   },
   "file_extension": ".py",
   "mimetype": "text/x-python",
   "name": "python",
   "nbconvert_exporter": "python",
   "pygments_lexer": "ipython3",
   "version": "3.8.11"
  }
 },
 "nbformat": 4,
 "nbformat_minor": 5
}
