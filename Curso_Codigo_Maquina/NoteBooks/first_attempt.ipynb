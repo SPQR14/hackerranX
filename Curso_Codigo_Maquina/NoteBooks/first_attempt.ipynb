{
 "cells": [
  {
   "cell_type": "markdown",
   "id": "e7eb25c2",
   "metadata": {},
   "source": [
    "#  Heading cells no longer supported LEVEL 1 HEADER\n",
    "## ¿Será que es más práctico? LEVEL 2 HEADER\n",
    "###  LEVEL 3 HEADER\n",
    "#### LEVEL 4 HEADER\n",
    "##### LEVEL 5 HEADER\n",
    "Texto base.\n",
    "La verdad no encuentro difrencia ente el nivel 4 y el 5, pero pues bueno, digamos que les creo."
   ]
  },
  {
   "cell_type": "code",
   "execution_count": 1,
   "id": "df118e79",
   "metadata": {},
   "outputs": [],
   "source": [
    "import pandas as pd"
   ]
  },
  {
   "cell_type": "code",
   "execution_count": 11,
   "id": "fc3d6b77",
   "metadata": {},
   "outputs": [
    {
     "data": {
      "text/plain": [
       "<AxesSubplot:ylabel='Ahorro'>"
      ]
     },
     "execution_count": 11,
     "metadata": {},
     "output_type": "execute_result"
    },
    {
     "data": {
      "image/png": "[encoded data removed]",
      "text/plain": [
       "<Figure size 432x288 with 1 Axes>"
      ]
     },
     "metadata": {},
     "output_type": "display_data"
    }
   ],
   "source": [
    "datos = pd.Series([100, 200, 300], index=['Paulina' ,'Alejandra' , 'Mónica'])\n",
    "datos.plot(ylabel = 'Ahorro', kind='pie')"
   ]
  },
  {
   "cell_type": "code",
   "execution_count": 12,
   "id": "523991e6",
   "metadata": {},
   "outputs": [
    {
     "data": {
      "text/plain": [
       "Paulina      100\n",
       "Alejandra    200\n",
       "Mónica       300\n",
       "dtype: int64"
      ]
     },
     "execution_count": 12,
     "metadata": {},
     "output_type": "execute_result"
    }
   ],
   "source": [
    "datos"
   ]
  },
  {
   "cell_type": "code",
   "execution_count": 13,
   "id": "0cbf92cd",
   "metadata": {},
   "outputs": [
    {
     "data": {
      "text/plain": [
       "pandas.core.series.Series"
      ]
     },
     "execution_count": 13,
     "metadata": {},
     "output_type": "execute_result"
    }
   ],
   "source": [
    "type(datos)"
   ]
  },
  {
   "cell_type": "code",
   "execution_count": 14,
   "id": "186ecbc7",
   "metadata": {},
   "outputs": [
    {
     "data": {
      "text/plain": [
       "dtype('int64')"
      ]
     },
     "execution_count": 14,
     "metadata": {},
     "output_type": "execute_result"
    }
   ],
   "source": [
    "datos.dtypes"
   ]
  },
  {
   "cell_type": "code",
   "execution_count": null,
   "id": "83279026",
   "metadata": {},
   "outputs": [],
   "source": []
  }
 ],
 "metadata": {
  "kernelspec": {
   "display_name": "DSS",
   "language": "python",
   "name": "dss"
  },
  "language_info": {
   "codemirror_mode": {
    "name": "ipython",
    "version": 3
   },
   "file_extension": ".py",
   "mimetype": "text/x-python",
   "name": "python",
   "nbconvert_exporter": "python",
   "pygments_lexer": "ipython3",
   "version": "3.8.11"
  }
 },
 "nbformat": 4,
 "nbformat_minor": 5
}
