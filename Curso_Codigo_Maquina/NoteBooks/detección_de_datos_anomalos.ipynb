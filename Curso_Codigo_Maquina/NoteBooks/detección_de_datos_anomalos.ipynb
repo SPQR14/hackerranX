{
 "cells": [
  {
   "cell_type": "code",
   "execution_count": 1,
   "id": "d40c74dc",
   "metadata": {},
   "outputs": [],
   "source": [
    "import pandas as pd \n",
    "import matplotlib.pyplot as plt\n",
    "from time import perf_counter\n",
    "import numpy as np"
   ]
  },
  {
   "cell_type": "code",
   "execution_count": 38,
   "id": "35b70cea",
   "metadata": {},
   "outputs": [],
   "source": [
    "edades = np.array([4, 4, 17, 29, 33, 44, 50, 51, 53, 63, 67, 72, 85, 92, 99])"
   ]
  },
  {
   "cell_type": "code",
   "execution_count": 39,
   "id": "3081098f",
   "metadata": {},
   "outputs": [
    {
     "data": {
      "image/png": "[encoded data removed]",
      "text/plain": [
       "<Figure size 432x288 with 1 Axes>"
      ]
     },
     "metadata": {
      "needs_background": "light"
     },
     "output_type": "display_data"
    }
   ],
   "source": [
    "plt.grid(True)\n",
    "plt.yticks(np.arange(0,110, 5))\n",
    "plt.boxplot(edades)\n",
    "plt.show()"
   ]
  },
  {
   "cell_type": "code",
   "execution_count": 40,
   "id": "5db47771",
   "metadata": {},
   "outputs": [
    {
     "data": {
      "text/plain": [
       "(4, 31.0, 51.0, 69.5, 99)"
      ]
     },
     "execution_count": 40,
     "metadata": {},
     "output_type": "execute_result"
    }
   ],
   "source": [
    "(np.min(edades), np.quantile(edades, 0.25), np.median(edades), np.quantile(edades, 0.75), np.max(edades))"
   ]
  },
  {
   "cell_type": "markdown",
   "id": "f80aaeb8",
   "metadata": {},
   "source": [
    "# Datos anormales/anómalos (outliers)\n",
    "## Prueba de Tuckey"
   ]
  },
  {
   "cell_type": "code",
   "execution_count": 41,
   "id": "b35b4432",
   "metadata": {},
   "outputs": [
    {
     "data": {
      "image/png": "[encoded data removed]",
      "text/plain": [
       "<Figure size 432x288 with 1 Axes>"
      ]
     },
     "metadata": {
      "needs_background": "light"
     },
     "output_type": "display_data"
    }
   ],
   "source": [
    "edades = np.array([6,\n",
    "                  41, 42, 44, 51, 52, 54, 56, 57, 58, 60, 61, 64, 67,\n",
    "                  97, 101])\n",
    "plt.boxplot(edades)\n",
    "plt.grid(True)\n",
    "plt.yticks(np.arange(0,110,10))\n",
    "plt.show()"
   ]
  },
  {
   "cell_type": "code",
   "execution_count": null,
   "id": "6b791397",
   "metadata": {},
   "outputs": [],
   "source": []
  }
 ],
 "metadata": {
  "kernelspec": {
   "display_name": "DSS",
   "language": "python",
   "name": "dss"
  },
  "language_info": {
   "codemirror_mode": {
    "name": "ipython",
    "version": 3
   },
   "file_extension": ".py",
   "mimetype": "text/x-python",
   "name": "python",
   "nbconvert_exporter": "python",
   "pygments_lexer": "ipython3",
   "version": "3.8.11"
  }
 },
 "nbformat": 4,
 "nbformat_minor": 5
}
