{
 "cells": [
  {
   "cell_type": "code",
   "execution_count": 1,
   "metadata": {},
   "outputs": [],
   "source": [
    "b = True"
   ]
  },
  {
   "cell_type": "code",
   "execution_count": 2,
   "metadata": {},
   "outputs": [],
   "source": [
    "b = False"
   ]
  },
  {
   "cell_type": "code",
   "execution_count": 11,
   "metadata": {},
   "outputs": [
    {
     "name": "stdout",
     "output_type": "stream",
     "text": [
      "0 False\n",
      "False\n",
      "False\n",
      "False\n",
      "False\n",
      "5 False\n",
      "False\n",
      "False\n",
      "False\n",
      "False\n",
      "10 False\n",
      "False\n",
      "False\n",
      "False\n",
      "False\n",
      "15 False\n",
      "False\n",
      "False\n",
      "False\n",
      "False\n",
      "20 False\n",
      "False\n",
      "False\n",
      "False\n",
      "False\n",
      "25 False\n",
      "False\n",
      "False\n",
      "False\n",
      "False\n"
     ]
    }
   ],
   "source": [
    "bandera = False\n",
    "for i in range(0, 30):\n",
    "    if i % 5 == 0:\n",
    "        bandera = True\n",
    "        print(i, b)\n",
    "    else:\n",
    "        bandera = False\n",
    "        print(b)"
   ]
  },
  {
   "cell_type": "code",
   "execution_count": null,
   "metadata": {},
   "outputs": [],
   "source": []
  }
 ],
 "metadata": {
  "kernelspec": {
   "display_name": "Python 3.7.3 64-bit",
   "language": "python",
   "name": "python37364bitcc93c5df7d004a8cab72552ce43a903e"
  },
  "language_info": {
   "codemirror_mode": {
    "name": "ipython",
    "version": 3
   },
   "file_extension": ".py",
   "mimetype": "text/x-python",
   "name": "python",
   "nbconvert_exporter": "python",
   "pygments_lexer": "ipython3",
   "version": "3.7.3"
  }
 },
 "nbformat": 4,
 "nbformat_minor": 2
}
