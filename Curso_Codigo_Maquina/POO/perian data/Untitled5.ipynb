{
 "cells": [
  {
   "cell_type": "code",
   "execution_count": 50,
   "metadata": {},
   "outputs": [],
   "source": [
    "def cero():\n",
    "    return [[0],[0]]\n",
    "\n",
    "def uno():\n",
    "    return 'uno'\n",
    "\n",
    "def indirect(i):\n",
    "    switcher = {\n",
    "        0:cero,\n",
    "        1:uno,\n",
    "        2:lambda: [[0],[0]]\n",
    "    }\n",
    "    func=switcher.get(i, lambda : 'invalid')\n",
    "    return func()"
   ]
  },
  {
   "cell_type": "code",
   "execution_count": 52,
   "metadata": {},
   "outputs": [
    {
     "data": {
      "text/plain": [
       "[[0], [0]]"
      ]
     },
     "execution_count": 52,
     "metadata": {},
     "output_type": "execute_result"
    }
   ],
   "source": []
  },
  {
   "cell_type": "code",
   "execution_count": 8,
   "metadata": {},
   "outputs": [],
   "source": [
    "tablero = [['1 ', '| ', '2 ', '| ', '3'],\n",
    "           ['- ','- ' ,'- ', '- ' ,'- '], \n",
    "           ['4 ', '| ', '5 ', '| ', '6'],\n",
    "           ['- ','- ' ,'- ', '- ' ,'- '], \n",
    "           ['7 ', '| ', '8 ', '| ', '9']]\n",
    "tiros = 0"
   ]
  },
  {
   "cell_type": "code",
   "execution_count": 22,
   "metadata": {},
   "outputs": [],
   "source": []
  },
  {
   "cell_type": "code",
   "execution_count": 76,
   "metadata": {},
   "outputs": [],
   "source": [
    "def ele(item):\n",
    "    switcheri = {\n",
    "        1: lambda: [[0],[0]],\n",
    "        2: lambda: [[0],[2]],\n",
    "        3: lambda: [[0],[4]]\n",
    "    }\n",
    "    des = switcheri.get(item, lambda: 'invalid')\n",
    "    return des()"
   ]
  },
  {
   "cell_type": "code",
   "execution_count": 77,
   "metadata": {},
   "outputs": [
    {
     "data": {
      "text/plain": [
       "[[0], [0]]"
      ]
     },
     "execution_count": 77,
     "metadata": {},
     "output_type": "execute_result"
    }
   ],
   "source": [
    "ele(1)"
   ]
  },
  {
   "cell_type": "code",
   "execution_count": 78,
   "metadata": {},
   "outputs": [],
   "source": [
    "def actualiza_tablero():\n",
    "    pos = ele(1)\n",
    "    if tiros % 2 == 0:\n",
    "        tablero[pos[0][0]][pos[0][1]] = ('O')"
   ]
  },
  {
   "cell_type": "code",
   "execution_count": 74,
   "metadata": {},
   "outputs": [],
   "source": [
    "tablero[0][0] = ('O')"
   ]
  },
  {
   "cell_type": "code",
   "execution_count": 75,
   "metadata": {},
   "outputs": [
    {
     "data": {
      "text/plain": [
       "[['O', '| ', '2 ', '| ', '3'],\n",
       " ['- ', '- ', '- ', '- ', '- '],\n",
       " ['4 ', '| ', '5 ', '| ', '6'],\n",
       " ['- ', '- ', '- ', '- ', '- '],\n",
       " ['7 ', '| ', '8 ', '| ', '9']]"
      ]
     },
     "execution_count": 75,
     "metadata": {},
     "output_type": "execute_result"
    }
   ],
   "source": [
    "tablero"
   ]
  },
  {
   "cell_type": "code",
   "execution_count": null,
   "metadata": {},
   "outputs": [],
   "source": []
  }
 ],
 "metadata": {
  "kernelspec": {
   "display_name": "Python 3.7.3 64-bit",
   "language": "python",
   "name": "python37364bitcc93c5df7d004a8cab72552ce43a903e"
  },
  "language_info": {
   "codemirror_mode": {
    "name": "ipython",
    "version": 3
   },
   "file_extension": ".py",
   "mimetype": "text/x-python",
   "name": "python",
   "nbconvert_exporter": "python",
   "pygments_lexer": "ipython3",
   "version": "3.7.3"
  }
 },
 "nbformat": 4,
 "nbformat_minor": 2
}
