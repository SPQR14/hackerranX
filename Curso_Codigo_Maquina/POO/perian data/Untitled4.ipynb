{
 "cells": [
  {
   "cell_type": "code",
   "execution_count": 1,
   "metadata": {},
   "outputs": [],
   "source": [
    "lista = [1, 2, 3]"
   ]
  },
  {
   "cell_type": "code",
   "execution_count": 2,
   "metadata": {},
   "outputs": [],
   "source": [
    "lista.append(4)"
   ]
  },
  {
   "cell_type": "code",
   "execution_count": 3,
   "metadata": {},
   "outputs": [
    {
     "data": {
      "text/plain": [
       "[1, 2, 3, 4]"
      ]
     },
     "execution_count": 3,
     "metadata": {},
     "output_type": "execute_result"
    }
   ],
   "source": [
    "lista"
   ]
  },
  {
   "cell_type": "code",
   "execution_count": 4,
   "metadata": {},
   "outputs": [],
   "source": [
    "ultimo = lista.pop()"
   ]
  },
  {
   "cell_type": "code",
   "execution_count": 5,
   "metadata": {},
   "outputs": [
    {
     "data": {
      "text/plain": [
       "4"
      ]
     },
     "execution_count": 5,
     "metadata": {},
     "output_type": "execute_result"
    }
   ],
   "source": [
    "ultimo"
   ]
  },
  {
   "cell_type": "code",
   "execution_count": 6,
   "metadata": {},
   "outputs": [
    {
     "data": {
      "text/plain": [
       "[1, 2, 3]"
      ]
     },
     "execution_count": 6,
     "metadata": {},
     "output_type": "execute_result"
    }
   ],
   "source": [
    "lista"
   ]
  },
  {
   "cell_type": "code",
   "execution_count": 7,
   "metadata": {},
   "outputs": [
    {
     "name": "stdout",
     "output_type": "stream",
     "text": [
      "Help on built-in function append:\n",
      "\n",
      "append(object, /) method of builtins.list instance\n",
      "    Append object to the end of the list.\n",
      "\n"
     ]
    }
   ],
   "source": [
    "help(lista.append)"
   ]
  },
  {
   "cell_type": "code",
   "execution_count": 9,
   "metadata": {},
   "outputs": [],
   "source": [
    "lista.insert(2,6)"
   ]
  },
  {
   "cell_type": "code",
   "execution_count": 11,
   "metadata": {},
   "outputs": [
    {
     "data": {
      "text/plain": [
       "[1, 2, 6, 3]"
      ]
     },
     "execution_count": 11,
     "metadata": {},
     "output_type": "execute_result"
    }
   ],
   "source": [
    "lista"
   ]
  },
  {
   "cell_type": "code",
   "execution_count": 4,
   "metadata": {},
   "outputs": [],
   "source": [
    "def funcion():\n",
    "    \"\"\"\n",
    "    Funcion generadora de números primos\n",
    "    Entradas: No\n",
    "    Salidas: Números primos\n",
    "    \"\"\"\n",
    "    for n in range(2,100): \n",
    "        for x in range(2, n):\n",
    "            if n % x == 0:\n",
    "                print(n, 'es igual a', x, '*', n/x )\n",
    "                break\n",
    "        else:\n",
    "            print(n, 'es un número primo')"
   ]
  },
  {
   "cell_type": "code",
   "execution_count": 2,
   "metadata": {},
   "outputs": [
    {
     "name": "stdout",
     "output_type": "stream",
     "text": [
      "Help on function funcion in module __main__:\n",
      "\n",
      "funcion()\n",
      "    Funcion generadora de números primos\n",
      "    Entradas: No\n",
      "    Salidas: Números primos\n",
      "\n"
     ]
    }
   ],
   "source": [
    "help(funcion)"
   ]
  },
  {
   "cell_type": "code",
   "execution_count": 5,
   "metadata": {},
   "outputs": [
    {
     "name": "stdout",
     "output_type": "stream",
     "text": [
      "2 es un número primo\n",
      "3 es un número primo\n",
      "4 es igual a 2 * 2.0\n",
      "5 es un número primo\n",
      "6 es igual a 2 * 3.0\n",
      "7 es un número primo\n",
      "8 es igual a 2 * 4.0\n",
      "9 es igual a 3 * 3.0\n",
      "10 es igual a 2 * 5.0\n",
      "11 es un número primo\n",
      "12 es igual a 2 * 6.0\n",
      "13 es un número primo\n",
      "14 es igual a 2 * 7.0\n",
      "15 es igual a 3 * 5.0\n",
      "16 es igual a 2 * 8.0\n",
      "17 es un número primo\n",
      "18 es igual a 2 * 9.0\n",
      "19 es un número primo\n",
      "20 es igual a 2 * 10.0\n",
      "21 es igual a 3 * 7.0\n",
      "22 es igual a 2 * 11.0\n",
      "23 es un número primo\n",
      "24 es igual a 2 * 12.0\n",
      "25 es igual a 5 * 5.0\n",
      "26 es igual a 2 * 13.0\n",
      "27 es igual a 3 * 9.0\n",
      "28 es igual a 2 * 14.0\n",
      "29 es un número primo\n",
      "30 es igual a 2 * 15.0\n",
      "31 es un número primo\n",
      "32 es igual a 2 * 16.0\n",
      "33 es igual a 3 * 11.0\n",
      "34 es igual a 2 * 17.0\n",
      "35 es igual a 5 * 7.0\n",
      "36 es igual a 2 * 18.0\n",
      "37 es un número primo\n",
      "38 es igual a 2 * 19.0\n",
      "39 es igual a 3 * 13.0\n",
      "40 es igual a 2 * 20.0\n",
      "41 es un número primo\n",
      "42 es igual a 2 * 21.0\n",
      "43 es un número primo\n",
      "44 es igual a 2 * 22.0\n",
      "45 es igual a 3 * 15.0\n",
      "46 es igual a 2 * 23.0\n",
      "47 es un número primo\n",
      "48 es igual a 2 * 24.0\n",
      "49 es igual a 7 * 7.0\n",
      "50 es igual a 2 * 25.0\n",
      "51 es igual a 3 * 17.0\n",
      "52 es igual a 2 * 26.0\n",
      "53 es un número primo\n",
      "54 es igual a 2 * 27.0\n",
      "55 es igual a 5 * 11.0\n",
      "56 es igual a 2 * 28.0\n",
      "57 es igual a 3 * 19.0\n",
      "58 es igual a 2 * 29.0\n",
      "59 es un número primo\n",
      "60 es igual a 2 * 30.0\n",
      "61 es un número primo\n",
      "62 es igual a 2 * 31.0\n",
      "63 es igual a 3 * 21.0\n",
      "64 es igual a 2 * 32.0\n",
      "65 es igual a 5 * 13.0\n",
      "66 es igual a 2 * 33.0\n",
      "67 es un número primo\n",
      "68 es igual a 2 * 34.0\n",
      "69 es igual a 3 * 23.0\n",
      "70 es igual a 2 * 35.0\n",
      "71 es un número primo\n",
      "72 es igual a 2 * 36.0\n",
      "73 es un número primo\n",
      "74 es igual a 2 * 37.0\n",
      "75 es igual a 3 * 25.0\n",
      "76 es igual a 2 * 38.0\n",
      "77 es igual a 7 * 11.0\n",
      "78 es igual a 2 * 39.0\n",
      "79 es un número primo\n",
      "80 es igual a 2 * 40.0\n",
      "81 es igual a 3 * 27.0\n",
      "82 es igual a 2 * 41.0\n",
      "83 es un número primo\n",
      "84 es igual a 2 * 42.0\n",
      "85 es igual a 5 * 17.0\n",
      "86 es igual a 2 * 43.0\n",
      "87 es igual a 3 * 29.0\n",
      "88 es igual a 2 * 44.0\n",
      "89 es un número primo\n",
      "90 es igual a 2 * 45.0\n",
      "91 es igual a 7 * 13.0\n",
      "92 es igual a 2 * 46.0\n",
      "93 es igual a 3 * 31.0\n",
      "94 es igual a 2 * 47.0\n",
      "95 es igual a 5 * 19.0\n",
      "96 es igual a 2 * 48.0\n",
      "97 es un número primo\n",
      "98 es igual a 2 * 49.0\n",
      "99 es igual a 3 * 33.0\n"
     ]
    }
   ],
   "source": [
    "funcion()"
   ]
  },
  {
   "cell_type": "code",
   "execution_count": 3,
   "metadata": {},
   "outputs": [],
   "source": [
    "text = 'Hola soy el cejas'"
   ]
  },
  {
   "cell_type": "code",
   "execution_count": 12,
   "metadata": {},
   "outputs": [
    {
     "data": {
      "text/plain": [
       "['cejas', 'el', 'soy', 'Hola']"
      ]
     },
     "execution_count": 12,
     "metadata": {},
     "output_type": "execute_result"
    }
   ],
   "source": [
    "text.split()[::-1]"
   ]
  },
  {
   "cell_type": "code",
   "execution_count": null,
   "metadata": {},
   "outputs": [],
   "source": []
  }
 ],
 "metadata": {
  "kernelspec": {
   "display_name": "Python 3",
   "language": "python",
   "name": "python3"
  },
  "language_info": {
   "codemirror_mode": {
    "name": "ipython",
    "version": 3
   },
   "file_extension": ".py",
   "mimetype": "text/x-python",
   "name": "python",
   "nbconvert_exporter": "python",
   "pygments_lexer": "ipython3",
   "version": "3.7.3"
  }
 },
 "nbformat": 4,
 "nbformat_minor": 2
}
