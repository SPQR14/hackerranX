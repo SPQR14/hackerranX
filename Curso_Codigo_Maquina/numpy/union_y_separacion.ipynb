{
 "cells": [
  {
   "cell_type": "code",
   "execution_count": 10,
   "id": "a6d05f39",
   "metadata": {},
   "outputs": [],
   "source": [
    "import numpy as np"
   ]
  },
  {
   "cell_type": "code",
   "execution_count": 16,
   "id": "c3fa89f1",
   "metadata": {},
   "outputs": [],
   "source": [
    "altura = np.array([1.74, 1.8, 1.78, 1.68, 1.78], dtype='f2')\n",
    "peso = np.array([81.4, 88.7, 87.3, 62.7, 81.6], dtype='f2')"
   ]
  },
  {
   "cell_type": "code",
   "execution_count": 17,
   "id": "41ed254e",
   "metadata": {},
   "outputs": [],
   "source": [
    "matriz = np.stack((altura, peso), axis = 1)"
   ]
  },
  {
   "cell_type": "code",
   "execution_count": 18,
   "id": "0743c4da",
   "metadata": {},
   "outputs": [
    {
     "data": {
      "text/plain": [
       "array([[ 1.74, 81.4 ],\n",
       "       [ 1.8 , 88.7 ],\n",
       "       [ 1.78, 87.3 ],\n",
       "       [ 1.68, 62.7 ],\n",
       "       [ 1.78, 81.6 ]], dtype=float16)"
      ]
     },
     "execution_count": 18,
     "metadata": {},
     "output_type": "execute_result"
    }
   ],
   "source": [
    "matriz"
   ]
  },
  {
   "cell_type": "code",
   "execution_count": 19,
   "id": "e6e79cea",
   "metadata": {},
   "outputs": [],
   "source": [
    "matrix = np.concatenate((altura,peso))"
   ]
  },
  {
   "cell_type": "code",
   "execution_count": 20,
   "id": "fe18cc94",
   "metadata": {},
   "outputs": [
    {
     "data": {
      "text/plain": [
       "array([ 1.74,  1.8 ,  1.78,  1.68,  1.78, 81.4 , 88.7 , 87.3 , 62.7 ,\n",
       "       81.6 ], dtype=float16)"
      ]
     },
     "execution_count": 20,
     "metadata": {},
     "output_type": "execute_result"
    }
   ],
   "source": [
    "matrix"
   ]
  },
  {
   "cell_type": "code",
   "execution_count": 21,
   "id": "276c70b4",
   "metadata": {},
   "outputs": [
    {
     "data": {
      "text/plain": [
       "dtype('float16')"
      ]
     },
     "execution_count": 21,
     "metadata": {},
     "output_type": "execute_result"
    }
   ],
   "source": [
    "matrix.dtype"
   ]
  },
  {
   "cell_type": "code",
   "execution_count": 29,
   "id": "03f23ed7",
   "metadata": {},
   "outputs": [],
   "source": [
    "right_in_two = np.stack((altura, peso), axis = 1)"
   ]
  },
  {
   "cell_type": "code",
   "execution_count": 30,
   "id": "6835e259",
   "metadata": {},
   "outputs": [
    {
     "name": "stdout",
     "output_type": "stream",
     "text": [
      "[[ 1.74 81.4 ]\n",
      " [ 1.8  88.7 ]\n",
      " [ 1.78 87.3 ]\n",
      " [ 1.68 62.7 ]\n",
      " [ 1.78 81.6 ]] <class 'numpy.ndarray'>\n"
     ]
    }
   ],
   "source": [
    "print(right_in_two, type(right_in_two))"
   ]
  },
  {
   "cell_type": "code",
   "execution_count": 32,
   "id": "f0176114",
   "metadata": {},
   "outputs": [],
   "source": [
    "separated = np.split(right_in_two, 5)"
   ]
  },
  {
   "cell_type": "code",
   "execution_count": 33,
   "id": "8be1c00b",
   "metadata": {},
   "outputs": [
    {
     "name": "stdout",
     "output_type": "stream",
     "text": [
      "[array([[ 1.74, 81.4 ]], dtype=float16), array([[ 1.8, 88.7]], dtype=float16), array([[ 1.78, 87.3 ]], dtype=float16), array([[ 1.68, 62.7 ]], dtype=float16), array([[ 1.78, 81.6 ]], dtype=float16)] <class 'list'>\n"
     ]
    }
   ],
   "source": [
    "print(separated, type(separated))"
   ]
  },
  {
   "cell_type": "code",
   "execution_count": null,
   "id": "e031306d",
   "metadata": {},
   "outputs": [],
   "source": []
  },
  {
   "cell_type": "code",
   "execution_count": null,
   "id": "e4b05a93",
   "metadata": {},
   "outputs": [],
   "source": []
  }
 ],
 "metadata": {
  "kernelspec": {
   "display_name": "DSS",
   "language": "python",
   "name": "dss"
  },
  "language_info": {
   "codemirror_mode": {
    "name": "ipython",
    "version": 3
   },
   "file_extension": ".py",
   "mimetype": "text/x-python",
   "name": "python",
   "nbconvert_exporter": "python",
   "pygments_lexer": "ipython3",
   "version": "3.8.11"
  }
 },
 "nbformat": 4,
 "nbformat_minor": 5
}
