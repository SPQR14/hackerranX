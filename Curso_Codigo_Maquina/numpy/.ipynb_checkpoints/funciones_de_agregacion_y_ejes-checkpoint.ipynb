{
 "cells": [
  {
   "cell_type": "code",
   "execution_count": 2,
   "id": "fad1777b",
   "metadata": {},
   "outputs": [],
   "source": [
    "import numpy as np\n",
    "from time import perf_counter as perf"
   ]
  },
  {
   "cell_type": "code",
   "execution_count": 23,
   "id": "0f94b02b",
   "metadata": {},
   "outputs": [],
   "source": [
    "altura_y_pesos = np.array([[ 1.74, 91.40 ],\n",
    "                           [ 1.80, 88.70 ],\n",
    "                           [ 1.78, 87.30 ],\n",
    "                           [ 1.68, 62.70 ],\n",
    "                           [ 1.78, 81.60 ]])"
   ]
  },
  {
   "cell_type": "code",
   "execution_count": 24,
   "id": "bc81f35d",
   "metadata": {},
   "outputs": [
    {
     "name": "stdout",
     "output_type": "stream",
     "text": [
      "Mínimo 1.68\n",
      "Máximo 91.4\n",
      "Posición del mínimo 6\n",
      "Pocisión del máximo 1\n",
      "Suma de todo 420.48\n",
      "Media de todo 42.048\n"
     ]
    }
   ],
   "source": [
    "print(\"Mínimo\", altura_y_pesos.min())\n",
    "print(\"Máximo\", altura_y_pesos.max())\n",
    "print(\"Posición del mínimo\", altura_y_pesos.argmin())\n",
    "print(\"Pocisión del máximo\", altura_y_pesos.argmax())\n",
    "print(\"Suma de todo\", altura_y_pesos.sum())\n",
    "print(\"Media de todo\", altura_y_pesos.mean())"
   ]
  },
  {
   "cell_type": "code",
   "execution_count": 25,
   "id": "3d18e981",
   "metadata": {},
   "outputs": [
    {
     "data": {
      "text/plain": [
       "2"
      ]
     },
     "execution_count": 25,
     "metadata": {},
     "output_type": "execute_result"
    }
   ],
   "source": [
    "altura_y_pesos.ndim"
   ]
  },
  {
   "cell_type": "code",
   "execution_count": 26,
   "id": "11b92253",
   "metadata": {},
   "outputs": [
    {
     "data": {
      "text/plain": [
       "(5, 2)"
      ]
     },
     "execution_count": 26,
     "metadata": {},
     "output_type": "execute_result"
    }
   ],
   "source": [
    "altura_y_pesos.shape  # Vertical, Horizontal"
   ]
  },
  {
   "cell_type": "code",
   "execution_count": 22,
   "id": "50214096",
   "metadata": {},
   "outputs": [
    {
     "name": "stdout",
     "output_type": "stream",
     "text": [
      "Mínimo de la columna estatura [ 1.68 81.6 ]\n",
      "Máximo de la columna estatura [ 1.8 92.7]\n",
      "Posición del mínimo en la columna estatura [3 4]\n",
      "Pocisión del máximo en la columna estatura [1 3]\n",
      "Suma de la columna estatura [  8.78 441.7 ]\n",
      "Media de la columna estatura [ 1.756 88.34 ]\n"
     ]
    }
   ],
   "source": [
    "print(\"Mínimo de la columna estatura\", altura_y_pesos.min(axis = 0))\n",
    "print(\"Máximo de la columna estatura\", altura_y_pesos.max(axis = 0))\n",
    "print(\"Posición del mínimo en la columna estatura\", altura_y_pesos.argmin(axis = 0))\n",
    "print(\"Pocisión del máximo en la columna estatura\", altura_y_pesos.argmax(axis = 0))\n",
    "print(\"Suma de la columna estatura\", altura_y_pesos.sum(axis = 0))\n",
    "print(\"Media de la columna estatura\", altura_y_pesos.mean(axis = 0))"
   ]
  },
  {
   "cell_type": "code",
   "execution_count": null,
   "id": "b33a45e2",
   "metadata": {},
   "outputs": [],
   "source": []
  },
  {
   "cell_type": "code",
   "execution_count": null,
   "id": "d87f852b",
   "metadata": {},
   "outputs": [],
   "source": []
  },
  {
   "cell_type": "code",
   "execution_count": null,
   "id": "d7bedd63",
   "metadata": {},
   "outputs": [],
   "source": []
  }
 ],
 "metadata": {
  "kernelspec": {
   "display_name": "DSS",
   "language": "python",
   "name": "dss"
  },
  "language_info": {
   "codemirror_mode": {
    "name": "ipython",
    "version": 3
   },
   "file_extension": ".py",
   "mimetype": "text/x-python",
   "name": "python",
   "nbconvert_exporter": "python",
   "pygments_lexer": "ipython3",
   "version": "3.8.11"
  }
 },
 "nbformat": 4,
 "nbformat_minor": 5
}
