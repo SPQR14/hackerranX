{
 "cells": [
  {
   "cell_type": "code",
   "execution_count": 1,
   "id": "7f77ccab",
   "metadata": {},
   "outputs": [],
   "source": [
    "import numpy as np\n",
    "from time import perf_counter as perf"
   ]
  },
  {
   "cell_type": "code",
   "execution_count": 2,
   "id": "99f1ace1",
   "metadata": {},
   "outputs": [],
   "source": [
    "arreglo = np.array([i for i in range(1,16)])"
   ]
  },
  {
   "cell_type": "markdown",
   "id": "d778d2e2",
   "metadata": {},
   "source": [
    "arreglo"
   ]
  },
  {
   "cell_type": "code",
   "execution_count": 3,
   "id": "5d8e0913",
   "metadata": {},
   "outputs": [
    {
     "data": {
      "text/plain": [
       "(array([ 9, 10, 11, 12, 13, 14], dtype=int64),)"
      ]
     },
     "execution_count": 3,
     "metadata": {},
     "output_type": "execute_result"
    }
   ],
   "source": [
    "np.where(arreglo >= 10)"
   ]
  },
  {
   "cell_type": "code",
   "execution_count": 4,
   "id": "aaed3912",
   "metadata": {},
   "outputs": [],
   "source": [
    "arreglo = np.array([1.1, 1.2, 1.3, 1.4, 1.5], dtype='f2')"
   ]
  },
  {
   "cell_type": "code",
   "execution_count": 5,
   "id": "d9809ee7",
   "metadata": {},
   "outputs": [
    {
     "data": {
      "text/plain": [
       "dtype('float16')"
      ]
     },
     "execution_count": 5,
     "metadata": {},
     "output_type": "execute_result"
    }
   ],
   "source": [
    "arreglo.dtype"
   ]
  },
  {
   "cell_type": "code",
   "execution_count": 6,
   "id": "a8d4b697",
   "metadata": {},
   "outputs": [],
   "source": [
    "class Busquedas:\n",
    "    \n",
    "    def __init__(self, array):\n",
    "        self.array = array\n",
    "        pass\n",
    "    \n",
    "    def __str__(self):\n",
    "        return \"Busquedas con numpy\"\n",
    "    \n",
    "    def realiza_busqueda(self, busqueda = 0, signo = ''):\n",
    "        if busqueda > max(self.array) or busqueda < min(self.array):\n",
    "            return \"out of range\"\n",
    "        elif signo == \"==\":\n",
    "            return list(np.where(self.array == busqueda))\n",
    "        elif signo == \">=\":\n",
    "            return list(np.where(self.array >= busqueda))\n",
    "        elif signo == \"<\":\n",
    "            return list(np.where(self.array < busqueda))\n",
    "        elif signo == \">\":\n",
    "            return list(np.where(self.array > busqueda))\n",
    "        elif signo == \"<=\":\n",
    "            return list(np.where(self.array <= busqueda))\n",
    "        else:\n",
    "            return \"invalid search\""
   ]
  },
  {
   "cell_type": "code",
   "execution_count": 7,
   "id": "8947ecf4",
   "metadata": {},
   "outputs": [],
   "source": [
    "b = Busquedas(arreglo)"
   ]
  },
  {
   "cell_type": "code",
   "execution_count": 8,
   "id": "8468eea3",
   "metadata": {},
   "outputs": [
    {
     "data": {
      "text/plain": [
       "'out of range'"
      ]
     },
     "execution_count": 8,
     "metadata": {},
     "output_type": "execute_result"
    }
   ],
   "source": [
    "b.realiza_busqueda(busqueda=10, signo='==')"
   ]
  },
  {
   "cell_type": "code",
   "execution_count": 9,
   "id": "891636e2",
   "metadata": {},
   "outputs": [],
   "source": [
    "arreglo = np.arange(1,161)"
   ]
  },
  {
   "cell_type": "code",
   "execution_count": 10,
   "id": "64154706",
   "metadata": {},
   "outputs": [
    {
     "data": {
      "text/plain": [
       "array([  1,   2,   3,   4,   5,   6,   7,   8,   9,  10,  11,  12,  13,\n",
       "        14,  15,  16,  17,  18,  19,  20,  21,  22,  23,  24,  25,  26,\n",
       "        27,  28,  29,  30,  31,  32,  33,  34,  35,  36,  37,  38,  39,\n",
       "        40,  41,  42,  43,  44,  45,  46,  47,  48,  49,  50,  51,  52,\n",
       "        53,  54,  55,  56,  57,  58,  59,  60,  61,  62,  63,  64,  65,\n",
       "        66,  67,  68,  69,  70,  71,  72,  73,  74,  75,  76,  77,  78,\n",
       "        79,  80,  81,  82,  83,  84,  85,  86,  87,  88,  89,  90,  91,\n",
       "        92,  93,  94,  95,  96,  97,  98,  99, 100, 101, 102, 103, 104,\n",
       "       105, 106, 107, 108, 109, 110, 111, 112, 113, 114, 115, 116, 117,\n",
       "       118, 119, 120, 121, 122, 123, 124, 125, 126, 127, 128, 129, 130,\n",
       "       131, 132, 133, 134, 135, 136, 137, 138, 139, 140, 141, 142, 143,\n",
       "       144, 145, 146, 147, 148, 149, 150, 151, 152, 153, 154, 155, 156,\n",
       "       157, 158, 159, 160])"
      ]
     },
     "execution_count": 10,
     "metadata": {},
     "output_type": "execute_result"
    }
   ],
   "source": [
    "arreglo"
   ]
  },
  {
   "cell_type": "code",
   "execution_count": 11,
   "id": "3187c1d4",
   "metadata": {},
   "outputs": [],
   "source": [
    "arreglo = np.array([1, 2, 3, 4, 5, 6, 7, 8, 9, 10])"
   ]
  },
  {
   "cell_type": "code",
   "execution_count": 12,
   "id": "02faebcb",
   "metadata": {},
   "outputs": [],
   "source": [
    "filtro = [True, False, True, True, True, True, False, False, True, True]"
   ]
  },
  {
   "cell_type": "code",
   "execution_count": 13,
   "id": "ac817793",
   "metadata": {},
   "outputs": [
    {
     "data": {
      "text/plain": [
       "array([ 1,  3,  4,  5,  6,  9, 10])"
      ]
     },
     "execution_count": 13,
     "metadata": {},
     "output_type": "execute_result"
    }
   ],
   "source": [
    "arreglo[filtro]"
   ]
  },
  {
   "cell_type": "code",
   "execution_count": 16,
   "id": "db68ac07",
   "metadata": {},
   "outputs": [],
   "source": [
    "alturas = np.array([1.74, 1.8, 1.78, 1.68, 1.78, 1.7, 1.74, 1.74, 1.73, 1.79,\n",
    "           1.78, 1.72, 1.65, 1.78, 1.7, 1.68, 1.79, 1.68, 1.82, 1.72,\n",
    "           1.75, 1.66, 1.67, 1.79, 1.75, 1.65, 1.78, 1.73, 1.71, 1.81,\n",
    "           1.73, 1.71, 1.68, 1.74, 1.75, 1.68, 1.74, 1.81, 1.73, 1.82,\n",
    "           1.8, 1.67, 1.73, 1.7, 1.73, 1.7, 1.81, 1.81, 1.76, 1.82, 1.68,\n",
    "           1.74, 1.65, 1.8, 1.78, 1.7, 1.68, 1.78, 1.79, 1.73, 1.64, 1.67,\n",
    "           1.69, 1.74, 1.76, 1.66, 1.66, 1.73, 1.79, 1.81, 1.78, 1.63,\n",
    "           1.76, 1.72, 1.71, 1.7, 1.62, 1.8, 1.75, 1.8, 1.78, 1.78, 1.76,\n",
    "           1.65, 1.65, 1.68, 1.74, 1.75, 1.69, 1.75, 1.7, 1.83, 1.64, 1.7,\n",
    "           1.69, 1.69, 1.64, 1.69, 1.77, 1.8, 1.78, 1.69, 1.7, 1.7, 1.7,\n",
    "           1.63, 1.73, 1.84, 1.66, 1.78, 1.8, 1.79, 1.78, 1.74, 1.77,\n",
    "           1.73, 1.77, 1.76, 1.75, 1.8, 1.75,  1.8, 1.79, 1.71, 1.73,\n",
    "           1.59, 1.76, 1.75, 1.71, 1.76, 1.8, 1.68, 1.74, 1.77, 1.73,\n",
    "           1.68, 1.63, 1.67])\n",
    "\n",
    "pesos = np.array([81.4, 88.7, 87.3, 62.7, 81.6, 80.9, 74.6, 84.7, 76.7, 88.3,\n",
    "         84.6, 74, 57.7, 84.1, 79.7, 63.8, 88.4, 71.2, 87.1, 67, 80.7,\n",
    "         74.7, 60.5, 85.9, 72.4, 59.7, 87.3, 85.7, 64.1, 91.9, 82.8, 75.7,\n",
    "         60.2, 73.1, 74.7, 65.9, 80.9, 91.3, 76, 86.8, 80.7, 74.2, 83.1,\n",
    "         77.8, 84.5, 58.8, 89.5, 87, 84, 89.9, 56.5, 80.2, 61.8, 86.3,\n",
    "         82.6, 69.4, 65.8, 79.3, 88.1, 78.5, 69.1, 62.5, 74, 74.4, 87.6,\n",
    "         59.6, 61.4, 83.2, 89.2, 89.2, 103.7, 67.9, 85.4, 69.5, 75.7,\n",
    "         83.9, 59.5, 87.9, 82.6, 88.1, 86.2, 88.9, 84.4, 58.4, 61.5, 69.2,\n",
    "         84.2, 78, 81.1, 81.5, 74.7, 90.4, 59.2, 79.3, 65.1, 93, 60.5,\n",
    "         76.4, 98.8, 89.1, 88.9, 61.1, 76.6, 86, 75.5, 66.9, 79.4, 87.9,\n",
    "         72.3, 93.8, 89, 90.7, 86.7, 77.6, 85.1, 91.8, 103.2, 91.1, 67,\n",
    "         86.9, 78.7, 87.1, 85.5, 69.8, 75, 53.9, 99, 93.7, 88, 79.4, 87.6,\n",
    "         60.4, 82.7, 90.6, 79.8, 61.2, 62.5, 59.7])"
   ]
  },
  {
   "cell_type": "code",
   "execution_count": 17,
   "id": "4e28f663",
   "metadata": {},
   "outputs": [],
   "source": [
    "paises = np.array([\"Albania\", \"Alemania\", \"Andorra\", \"Angola\",\n",
    "                \"Antigua y Barbuda\", \"Arabia Saudita\", \"Argelia\",\n",
    "                \"Argentina\", \"Armenia\", \"Australia\", \"Austria\",\n",
    "                \"Bahrein\", \"Bangladesh\", \"Belarús\", \"Belice\", \"Benín\",\n",
    "                \"Bermudas\", \"Bolivia\", \"Bosnia y Hercegovina\", \"Botsuana\",\n",
    "                \"Brasil\", \"Brunéi\", \"Burundi\", \"Bélgica\", \"Cabo Verde\",\n",
    "                \"Cambodia\", \"Canadá\", \"Catar\", \"Chad\", \"Chequia\", \"Chile\",\n",
    "                \"Colombia\", \"Congo (Rep. Democr.)\", \"Corea del Norte\",\n",
    "                \"Corea del Sur\", \"Costa de Marfil\", \"Costa Rica\", \"Croacia\",\n",
    "                \"Cuba\", \"Dinamarca\", \"Dominica\", \"Ecuador\", \"Egipto\",\n",
    "                \"El Salvador\", \"Emiratos Árabes\", \"Eritrea\", \"Eslovaquia\",\n",
    "                \"Eslovenia\", \"España\", \"Estonia\", \"Etiopía\", \"Fiji\",\n",
    "                \"Filipinas\", \"Finlandia\", \"Francia\", \"Gabón\", \"Gambia\",\n",
    "                \"Granada\", \"Grecia\", \"Groenlandia\", \"Guatemala\",\n",
    "                \"Guinea Ecuatorial\", \"Honduras\", \"Hong Kong\", \"Hungría\",\n",
    "                \"India\", \"Indonesia\", \"Iraq\", \"Irlanda\", \"Islandia\",\n",
    "                \"Islas Cook\", \"Islas Salomón\", \"Israel\", \"Japón\",\n",
    "                \"Kirguistán\", \"Kiribati\", \"Laos\", \"Letonia\", \"Libia\",\n",
    "                \"Lituania\", \"Luxemburgo\", \"Líbano\", \"Macedonia\",\n",
    "                \"Madagascar\", \"Malaui\", \"Maldivas\", \"Malta\", \"Marruecos\",\n",
    "                \"Micronesia\", \"Moldavia\", \"Mongolia\", \"Montenegro\",\n",
    "                \"Mozambique\", \"México\", \"Namibia\", \"Nauru\", \"Nepal\",\n",
    "                \"Nicaragua\", \"Niue\", \"Noruega\", \"Nueva Zelandia\", \"Níger\",\n",
    "                \"Omán\", \"Palaos\", \"Panamá\", \"Papúa Nueva Guinea\", \"Paraguay\",\n",
    "                \"Países Bajos\", \"Perú\", \"Polinesia Francesa\", \"Polonia\",\n",
    "                \"Puerto Rico\", \"Reino Unido\", \"República Dominicana\",\n",
    "                \"Rumania\", \"Samoa\", \"Samoa Americana\", \"Santa Lucía\",\n",
    "                \"Senegal\", \"Serbia\", \"Seychelles\", \"Suecia\", \"Suiza\",\n",
    "                \"Tailandia\", \"Taiwán\", \"Timor Oriental\", \"Tokelau\", \"Tonga\",\n",
    "                \"Tuvalu\", \"Túnez\", \"Ucrania\", \"Uganda\", \"Uruguay\", \"USA\",\n",
    "                \"Venezuela\", \"Vietnam\", \"Yemen\", \"Zambia\"])"
   ]
  },
  {
   "cell_type": "code",
   "execution_count": 27,
   "id": "187ea2b4",
   "metadata": {},
   "outputs": [
    {
     "name": "stdout",
     "output_type": "stream",
     "text": [
      "['Chequia' 'Croacia' 'Islas Cook' 'Montenegro' 'Nauru' 'Niue'\n",
      " 'Polinesia Francesa' 'Puerto Rico' 'Samoa' 'Samoa Americana'\n",
      " 'Santa Lucía' 'Tokelau' 'Tonga' 'USA'] 14\n",
      "['Bosnia y Hercegovina' 'Chequia' 'Croacia' 'Dinamarca' 'Eslovaquia'\n",
      " 'Eslovenia' 'Estonia' 'Islandia' 'Montenegro' 'Países Bajos'] 10\n"
     ]
    }
   ],
   "source": [
    "print(paises[pesos > 90], paises[pesos > 90].size)\n",
    "      \n",
    "print(paises[alturas > 1.8], paises[alturas > 1.8].size)"
   ]
  },
  {
   "cell_type": "code",
   "execution_count": 36,
   "id": "5bf9fd75",
   "metadata": {},
   "outputs": [
    {
     "name": "stdout",
     "output_type": "stream",
     "text": [
      "['Chequia' 'Croacia' 'Montenegro']\n"
     ]
    }
   ],
   "source": [
    "print(paises[(pesos > 90) & (alturas > 1.8)])  # Para los vectores de numpy, la operación lógica \"Y\" se define como & no como and."
   ]
  },
  {
   "cell_type": "code",
   "execution_count": 38,
   "id": "81ea9413",
   "metadata": {},
   "outputs": [
    {
     "name": "stdout",
     "output_type": "stream",
     "text": [
      "['Bosnia y Hercegovina' 'Chequia' 'Croacia' 'Dinamarca' 'Eslovaquia'\n",
      " 'Eslovenia' 'Estonia' 'Islandia' 'Islas Cook' 'Montenegro' 'Nauru' 'Niue'\n",
      " 'Países Bajos' 'Polinesia Francesa' 'Puerto Rico' 'Samoa'\n",
      " 'Samoa Americana' 'Santa Lucía' 'Tokelau' 'Tonga' 'USA'] 21\n"
     ]
    }
   ],
   "source": [
    "print(paises[(pesos > 90) | (alturas > 1.8)], paises[(pesos > 90) | (alturas > 1.8)].size)  # Para el caso de la unión se usa el pipeline, operador lógico \"O\""
   ]
  },
  {
   "cell_type": "code",
   "execution_count": null,
   "id": "3e688330",
   "metadata": {},
   "outputs": [],
   "source": []
  }
 ],
 "metadata": {
  "kernelspec": {
   "display_name": "DSS",
   "language": "python",
   "name": "dss"
  },
  "language_info": {
   "codemirror_mode": {
    "name": "ipython",
    "version": 3
   },
   "file_extension": ".py",
   "mimetype": "text/x-python",
   "name": "python",
   "nbconvert_exporter": "python",
   "pygments_lexer": "ipython3",
   "version": "3.8.11"
  }
 },
 "nbformat": 4,
 "nbformat_minor": 5
}
