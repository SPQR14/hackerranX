{
 "cells": [
  {
   "cell_type": "code",
   "execution_count": 50,
   "id": "b754e159",
   "metadata": {},
   "outputs": [],
   "source": [
    "l = [1, [2, [3, [4, 5]]]]\n",
    "l_2 = [8, 2, [3, 10, [11, 12]], [1, 2, [3, 4]], 5, 6]\n",
    "l_3 = [13, 2,[5, [7, [1, 2, 3, 4, [6, 4, 3]]]],8,[9]]"
   ]
  },
  {
   "cell_type": "code",
   "execution_count": 51,
   "id": "88386628",
   "metadata": {},
   "outputs": [
    {
     "data": {
      "text/plain": [
       "[3, 10, [11, 12]]"
      ]
     },
     "execution_count": 51,
     "metadata": {},
     "output_type": "execute_result"
    }
   ],
   "source": [
    "l_2[2]"
   ]
  },
  {
   "cell_type": "code",
   "execution_count": 52,
   "id": "e7a26e57",
   "metadata": {},
   "outputs": [
    {
     "data": {
      "text/plain": [
       "[4, 5]"
      ]
     },
     "execution_count": 52,
     "metadata": {},
     "output_type": "execute_result"
    }
   ],
   "source": [
    "l[1][1][1]"
   ]
  },
  {
   "cell_type": "code",
   "execution_count": null,
   "id": "bddefbad",
   "metadata": {},
   "outputs": [],
   "source": []
  },
  {
   "cell_type": "code",
   "execution_count": 53,
   "id": "47f37e59",
   "metadata": {},
   "outputs": [],
   "source": [
    "f = []\n",
    "for s in l_3:\n",
    "    if type(s) == int:\n",
    "        f.append(s)\n",
    "    elif type(s) == list:\n",
    "        for i in s:\n",
    "            f.append(i)"
   ]
  },
  {
   "cell_type": "code",
   "execution_count": 54,
   "id": "ca76249a",
   "metadata": {},
   "outputs": [
    {
     "data": {
      "text/plain": [
       "[13, 2, 5, [7, [1, 2, 3, 4, [6, 4, 3]]], 8, 9]"
      ]
     },
     "execution_count": 54,
     "metadata": {},
     "output_type": "execute_result"
    }
   ],
   "source": [
    "f"
   ]
  },
  {
   "cell_type": "code",
   "execution_count": 60,
   "id": "4dfe8b46",
   "metadata": {},
   "outputs": [],
   "source": [
    "def flatten(list_of_lists):\n",
    "    if len(list_of_lists) == 0:\n",
    "        return list_of_lists\n",
    "    if isinstance(list_of_lists[0], list):\n",
    "        return flatten(list_of_lists[0]) + flatten(list_of_lists[1:])\n",
    "    return list_of_lists[:1] + flatten(list_of_lists[1:])"
   ]
  },
  {
   "cell_type": "code",
   "execution_count": 61,
   "id": "e4615f99",
   "metadata": {},
   "outputs": [
    {
     "name": "stdout",
     "output_type": "stream",
     "text": [
      "[13, 2, 5, 7, 1, 2, 3, 4, 6, 4, 3, 8, 9]\n"
     ]
    }
   ],
   "source": [
    "print(flatten(l_3))"
   ]
  },
  {
   "cell_type": "code",
   "execution_count": 62,
   "id": "9e5db7f7",
   "metadata": {},
   "outputs": [],
   "source": [
    "def flatten_list_p(_2d_list):\n",
    "    flat_list = []\n",
    "    # Iterate through the outer list\n",
    "    for element in _2d_list:\n",
    "        if type(element) is list:\n",
    "            # If the element is of type list, iterate through the sublist\n",
    "            for item in element:\n",
    "                flat_list.append(item)\n",
    "        else:\n",
    "            flat_list.append(element)\n",
    "    return flat_list"
   ]
  },
  {
   "cell_type": "code",
   "execution_count": 63,
   "id": "0b14de4a",
   "metadata": {},
   "outputs": [
    {
     "name": "stdout",
     "output_type": "stream",
     "text": [
      "[13, 2, 5, [7, [1, 2, 3, 4, [6, 4, 3]]], 8, 9]\n"
     ]
    }
   ],
   "source": [
    "print(flatten_list_p(l_3))"
   ]
  },
  {
   "cell_type": "code",
   "execution_count": 66,
   "id": "c75a5c0b",
   "metadata": {},
   "outputs": [
    {
     "name": "stdout",
     "output_type": "stream",
     "text": [
      "Original list [[1, 2, 3, 4], [5, 6, 7], [8, 9, [2]]]\n",
      "Transformed list [1, 2, 3, 4, 5, 6, 7, 8, 9, [2]]\n"
     ]
    }
   ],
   "source": [
    "regular_list = [[1, 2, 3, 4], [5, 6, 7], [8, 9, [2]]]\n",
    "\n",
    "flat_list = sum(regular_list, [])\n",
    "\n",
    "print('Original list', regular_list)\n",
    "print('Transformed list', flat_list)"
   ]
  },
  {
   "cell_type": "code",
   "execution_count": null,
   "id": "9781e428",
   "metadata": {},
   "outputs": [],
   "source": []
  }
 ],
 "metadata": {
  "kernelspec": {
   "display_name": "DSS",
   "language": "python",
   "name": "dss"
  },
  "language_info": {
   "codemirror_mode": {
    "name": "ipython",
    "version": 3
   },
   "file_extension": ".py",
   "mimetype": "text/x-python",
   "name": "python",
   "nbconvert_exporter": "python",
   "pygments_lexer": "ipython3",
   "version": "3.8.11"
  }
 },
 "nbformat": 4,
 "nbformat_minor": 5
}
